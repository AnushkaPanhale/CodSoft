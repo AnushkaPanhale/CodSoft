{
 "cells": [
  {
   "cell_type": "markdown",
   "id": "cd1dc6cd",
   "metadata": {},
   "source": [
    "# Name - Anushka Anil Panhale"
   ]
  },
  {
   "cell_type": "markdown",
   "id": "968f3b5a",
   "metadata": {},
   "source": [
    "## spam data"
   ]
  },
  {
   "cell_type": "code",
   "execution_count": 2,
   "id": "d9f7b375",
   "metadata": {},
   "outputs": [],
   "source": [
    "import pandas as pd\n",
    "import string\n",
    "import nltk           \n",
    "from nltk.corpus import stopwords\n"
   ]
  },
  {
   "cell_type": "code",
   "execution_count": 3,
   "id": "61d192df",
   "metadata": {},
   "outputs": [],
   "source": [
    "sp=pd.read_csv(r\"C:\\Users\\Lenovo\\OneDrive\\Desktop\\Codsoft\\spam.csv\", encoding='latin1')"
   ]
  },
  {
   "cell_type": "code",
   "execution_count": 4,
   "id": "573ec829",
   "metadata": {
    "scrolled": true
   },
   "outputs": [
    {
     "data": {
      "text/html": [
       "<div>\n",
       "<style scoped>\n",
       "    .dataframe tbody tr th:only-of-type {\n",
       "        vertical-align: middle;\n",
       "    }\n",
       "\n",
       "    .dataframe tbody tr th {\n",
       "        vertical-align: top;\n",
       "    }\n",
       "\n",
       "    .dataframe thead th {\n",
       "        text-align: right;\n",
       "    }\n",
       "</style>\n",
       "<table border=\"1\" class=\"dataframe\">\n",
       "  <thead>\n",
       "    <tr style=\"text-align: right;\">\n",
       "      <th></th>\n",
       "      <th>v1</th>\n",
       "      <th>v2</th>\n",
       "      <th>Unnamed: 2</th>\n",
       "      <th>Unnamed: 3</th>\n",
       "      <th>Unnamed: 4</th>\n",
       "    </tr>\n",
       "  </thead>\n",
       "  <tbody>\n",
       "    <tr>\n",
       "      <th>0</th>\n",
       "      <td>ham</td>\n",
       "      <td>Go until jurong point, crazy.. Available only ...</td>\n",
       "      <td>NaN</td>\n",
       "      <td>NaN</td>\n",
       "      <td>NaN</td>\n",
       "    </tr>\n",
       "    <tr>\n",
       "      <th>1</th>\n",
       "      <td>ham</td>\n",
       "      <td>Ok lar... Joking wif u oni...</td>\n",
       "      <td>NaN</td>\n",
       "      <td>NaN</td>\n",
       "      <td>NaN</td>\n",
       "    </tr>\n",
       "    <tr>\n",
       "      <th>2</th>\n",
       "      <td>spam</td>\n",
       "      <td>Free entry in 2 a wkly comp to win FA Cup fina...</td>\n",
       "      <td>NaN</td>\n",
       "      <td>NaN</td>\n",
       "      <td>NaN</td>\n",
       "    </tr>\n",
       "    <tr>\n",
       "      <th>3</th>\n",
       "      <td>ham</td>\n",
       "      <td>U dun say so early hor... U c already then say...</td>\n",
       "      <td>NaN</td>\n",
       "      <td>NaN</td>\n",
       "      <td>NaN</td>\n",
       "    </tr>\n",
       "    <tr>\n",
       "      <th>4</th>\n",
       "      <td>ham</td>\n",
       "      <td>Nah I don't think he goes to usf, he lives aro...</td>\n",
       "      <td>NaN</td>\n",
       "      <td>NaN</td>\n",
       "      <td>NaN</td>\n",
       "    </tr>\n",
       "  </tbody>\n",
       "</table>\n",
       "</div>"
      ],
      "text/plain": [
       "     v1                                                 v2 Unnamed: 2  \\\n",
       "0   ham  Go until jurong point, crazy.. Available only ...        NaN   \n",
       "1   ham                      Ok lar... Joking wif u oni...        NaN   \n",
       "2  spam  Free entry in 2 a wkly comp to win FA Cup fina...        NaN   \n",
       "3   ham  U dun say so early hor... U c already then say...        NaN   \n",
       "4   ham  Nah I don't think he goes to usf, he lives aro...        NaN   \n",
       "\n",
       "  Unnamed: 3 Unnamed: 4  \n",
       "0        NaN        NaN  \n",
       "1        NaN        NaN  \n",
       "2        NaN        NaN  \n",
       "3        NaN        NaN  \n",
       "4        NaN        NaN  "
      ]
     },
     "execution_count": 4,
     "metadata": {},
     "output_type": "execute_result"
    }
   ],
   "source": [
    "sp.head()"
   ]
  },
  {
   "cell_type": "markdown",
   "id": "ec15b69b",
   "metadata": {},
   "source": [
    "## Removing Nulls"
   ]
  },
  {
   "cell_type": "code",
   "execution_count": 5,
   "id": "3d870a28",
   "metadata": {},
   "outputs": [],
   "source": [
    "sp1=sp.where((pd.notnull(sp)),'')"
   ]
  },
  {
   "cell_type": "code",
   "execution_count": 6,
   "id": "2b9812b0",
   "metadata": {},
   "outputs": [
    {
     "data": {
      "text/html": [
       "<div>\n",
       "<style scoped>\n",
       "    .dataframe tbody tr th:only-of-type {\n",
       "        vertical-align: middle;\n",
       "    }\n",
       "\n",
       "    .dataframe tbody tr th {\n",
       "        vertical-align: top;\n",
       "    }\n",
       "\n",
       "    .dataframe thead th {\n",
       "        text-align: right;\n",
       "    }\n",
       "</style>\n",
       "<table border=\"1\" class=\"dataframe\">\n",
       "  <thead>\n",
       "    <tr style=\"text-align: right;\">\n",
       "      <th></th>\n",
       "      <th>v1</th>\n",
       "      <th>v2</th>\n",
       "      <th>Unnamed: 2</th>\n",
       "      <th>Unnamed: 3</th>\n",
       "      <th>Unnamed: 4</th>\n",
       "    </tr>\n",
       "  </thead>\n",
       "  <tbody>\n",
       "    <tr>\n",
       "      <th>0</th>\n",
       "      <td>ham</td>\n",
       "      <td>Go until jurong point, crazy.. Available only ...</td>\n",
       "      <td></td>\n",
       "      <td></td>\n",
       "      <td></td>\n",
       "    </tr>\n",
       "    <tr>\n",
       "      <th>1</th>\n",
       "      <td>ham</td>\n",
       "      <td>Ok lar... Joking wif u oni...</td>\n",
       "      <td></td>\n",
       "      <td></td>\n",
       "      <td></td>\n",
       "    </tr>\n",
       "    <tr>\n",
       "      <th>2</th>\n",
       "      <td>spam</td>\n",
       "      <td>Free entry in 2 a wkly comp to win FA Cup fina...</td>\n",
       "      <td></td>\n",
       "      <td></td>\n",
       "      <td></td>\n",
       "    </tr>\n",
       "    <tr>\n",
       "      <th>3</th>\n",
       "      <td>ham</td>\n",
       "      <td>U dun say so early hor... U c already then say...</td>\n",
       "      <td></td>\n",
       "      <td></td>\n",
       "      <td></td>\n",
       "    </tr>\n",
       "    <tr>\n",
       "      <th>4</th>\n",
       "      <td>ham</td>\n",
       "      <td>Nah I don't think he goes to usf, he lives aro...</td>\n",
       "      <td></td>\n",
       "      <td></td>\n",
       "      <td></td>\n",
       "    </tr>\n",
       "  </tbody>\n",
       "</table>\n",
       "</div>"
      ],
      "text/plain": [
       "     v1                                                 v2 Unnamed: 2  \\\n",
       "0   ham  Go until jurong point, crazy.. Available only ...              \n",
       "1   ham                      Ok lar... Joking wif u oni...              \n",
       "2  spam  Free entry in 2 a wkly comp to win FA Cup fina...              \n",
       "3   ham  U dun say so early hor... U c already then say...              \n",
       "4   ham  Nah I don't think he goes to usf, he lives aro...              \n",
       "\n",
       "  Unnamed: 3 Unnamed: 4  \n",
       "0                        \n",
       "1                        \n",
       "2                        \n",
       "3                        \n",
       "4                        "
      ]
     },
     "execution_count": 6,
     "metadata": {},
     "output_type": "execute_result"
    }
   ],
   "source": [
    "sp1.head()"
   ]
  },
  {
   "cell_type": "markdown",
   "id": "c2bb2fbf",
   "metadata": {},
   "source": [
    "## Drop & Rename & Replace Columns"
   ]
  },
  {
   "cell_type": "code",
   "execution_count": 7,
   "id": "fb94fc92",
   "metadata": {},
   "outputs": [],
   "source": [
    "sp=sp1.drop(['Unnamed: 2','Unnamed: 3','Unnamed: 4'],axis=1)"
   ]
  },
  {
   "cell_type": "code",
   "execution_count": 8,
   "id": "cf4194db",
   "metadata": {},
   "outputs": [],
   "source": [
    "sp.rename(columns={'v1':'y','v2':'x'},inplace=True)"
   ]
  },
  {
   "cell_type": "code",
   "execution_count": 9,
   "id": "cb4ffc2e",
   "metadata": {},
   "outputs": [
    {
     "data": {
      "text/html": [
       "<div>\n",
       "<style scoped>\n",
       "    .dataframe tbody tr th:only-of-type {\n",
       "        vertical-align: middle;\n",
       "    }\n",
       "\n",
       "    .dataframe tbody tr th {\n",
       "        vertical-align: top;\n",
       "    }\n",
       "\n",
       "    .dataframe thead th {\n",
       "        text-align: right;\n",
       "    }\n",
       "</style>\n",
       "<table border=\"1\" class=\"dataframe\">\n",
       "  <thead>\n",
       "    <tr style=\"text-align: right;\">\n",
       "      <th></th>\n",
       "      <th>y</th>\n",
       "      <th>x</th>\n",
       "    </tr>\n",
       "  </thead>\n",
       "  <tbody>\n",
       "    <tr>\n",
       "      <th>0</th>\n",
       "      <td>ham</td>\n",
       "      <td>Go until jurong point, crazy.. Available only ...</td>\n",
       "    </tr>\n",
       "    <tr>\n",
       "      <th>1</th>\n",
       "      <td>ham</td>\n",
       "      <td>Ok lar... Joking wif u oni...</td>\n",
       "    </tr>\n",
       "    <tr>\n",
       "      <th>2</th>\n",
       "      <td>spam</td>\n",
       "      <td>Free entry in 2 a wkly comp to win FA Cup fina...</td>\n",
       "    </tr>\n",
       "    <tr>\n",
       "      <th>3</th>\n",
       "      <td>ham</td>\n",
       "      <td>U dun say so early hor... U c already then say...</td>\n",
       "    </tr>\n",
       "    <tr>\n",
       "      <th>4</th>\n",
       "      <td>ham</td>\n",
       "      <td>Nah I don't think he goes to usf, he lives aro...</td>\n",
       "    </tr>\n",
       "    <tr>\n",
       "      <th>...</th>\n",
       "      <td>...</td>\n",
       "      <td>...</td>\n",
       "    </tr>\n",
       "    <tr>\n",
       "      <th>5567</th>\n",
       "      <td>spam</td>\n",
       "      <td>This is the 2nd time we have tried 2 contact u...</td>\n",
       "    </tr>\n",
       "    <tr>\n",
       "      <th>5568</th>\n",
       "      <td>ham</td>\n",
       "      <td>Will Ì_ b going to esplanade fr home?</td>\n",
       "    </tr>\n",
       "    <tr>\n",
       "      <th>5569</th>\n",
       "      <td>ham</td>\n",
       "      <td>Pity, * was in mood for that. So...any other s...</td>\n",
       "    </tr>\n",
       "    <tr>\n",
       "      <th>5570</th>\n",
       "      <td>ham</td>\n",
       "      <td>The guy did some bitching but I acted like i'd...</td>\n",
       "    </tr>\n",
       "    <tr>\n",
       "      <th>5571</th>\n",
       "      <td>ham</td>\n",
       "      <td>Rofl. Its true to its name</td>\n",
       "    </tr>\n",
       "  </tbody>\n",
       "</table>\n",
       "<p>5572 rows × 2 columns</p>\n",
       "</div>"
      ],
      "text/plain": [
       "         y                                                  x\n",
       "0      ham  Go until jurong point, crazy.. Available only ...\n",
       "1      ham                      Ok lar... Joking wif u oni...\n",
       "2     spam  Free entry in 2 a wkly comp to win FA Cup fina...\n",
       "3      ham  U dun say so early hor... U c already then say...\n",
       "4      ham  Nah I don't think he goes to usf, he lives aro...\n",
       "...    ...                                                ...\n",
       "5567  spam  This is the 2nd time we have tried 2 contact u...\n",
       "5568   ham              Will Ì_ b going to esplanade fr home?\n",
       "5569   ham  Pity, * was in mood for that. So...any other s...\n",
       "5570   ham  The guy did some bitching but I acted like i'd...\n",
       "5571   ham                         Rofl. Its true to its name\n",
       "\n",
       "[5572 rows x 2 columns]"
      ]
     },
     "execution_count": 9,
     "metadata": {},
     "output_type": "execute_result"
    }
   ],
   "source": [
    "sp"
   ]
  },
  {
   "cell_type": "code",
   "execution_count": 10,
   "id": "72394784",
   "metadata": {},
   "outputs": [],
   "source": [
    "sp.y.replace({'ham':0,'spam':1},inplace=True)"
   ]
  },
  {
   "cell_type": "code",
   "execution_count": 11,
   "id": "aad955d0",
   "metadata": {},
   "outputs": [
    {
     "data": {
      "text/html": [
       "<div>\n",
       "<style scoped>\n",
       "    .dataframe tbody tr th:only-of-type {\n",
       "        vertical-align: middle;\n",
       "    }\n",
       "\n",
       "    .dataframe tbody tr th {\n",
       "        vertical-align: top;\n",
       "    }\n",
       "\n",
       "    .dataframe thead th {\n",
       "        text-align: right;\n",
       "    }\n",
       "</style>\n",
       "<table border=\"1\" class=\"dataframe\">\n",
       "  <thead>\n",
       "    <tr style=\"text-align: right;\">\n",
       "      <th></th>\n",
       "      <th>y</th>\n",
       "      <th>x</th>\n",
       "    </tr>\n",
       "  </thead>\n",
       "  <tbody>\n",
       "    <tr>\n",
       "      <th>0</th>\n",
       "      <td>0</td>\n",
       "      <td>Go until jurong point, crazy.. Available only ...</td>\n",
       "    </tr>\n",
       "    <tr>\n",
       "      <th>1</th>\n",
       "      <td>0</td>\n",
       "      <td>Ok lar... Joking wif u oni...</td>\n",
       "    </tr>\n",
       "    <tr>\n",
       "      <th>2</th>\n",
       "      <td>1</td>\n",
       "      <td>Free entry in 2 a wkly comp to win FA Cup fina...</td>\n",
       "    </tr>\n",
       "    <tr>\n",
       "      <th>3</th>\n",
       "      <td>0</td>\n",
       "      <td>U dun say so early hor... U c already then say...</td>\n",
       "    </tr>\n",
       "    <tr>\n",
       "      <th>4</th>\n",
       "      <td>0</td>\n",
       "      <td>Nah I don't think he goes to usf, he lives aro...</td>\n",
       "    </tr>\n",
       "    <tr>\n",
       "      <th>...</th>\n",
       "      <td>...</td>\n",
       "      <td>...</td>\n",
       "    </tr>\n",
       "    <tr>\n",
       "      <th>5567</th>\n",
       "      <td>1</td>\n",
       "      <td>This is the 2nd time we have tried 2 contact u...</td>\n",
       "    </tr>\n",
       "    <tr>\n",
       "      <th>5568</th>\n",
       "      <td>0</td>\n",
       "      <td>Will Ì_ b going to esplanade fr home?</td>\n",
       "    </tr>\n",
       "    <tr>\n",
       "      <th>5569</th>\n",
       "      <td>0</td>\n",
       "      <td>Pity, * was in mood for that. So...any other s...</td>\n",
       "    </tr>\n",
       "    <tr>\n",
       "      <th>5570</th>\n",
       "      <td>0</td>\n",
       "      <td>The guy did some bitching but I acted like i'd...</td>\n",
       "    </tr>\n",
       "    <tr>\n",
       "      <th>5571</th>\n",
       "      <td>0</td>\n",
       "      <td>Rofl. Its true to its name</td>\n",
       "    </tr>\n",
       "  </tbody>\n",
       "</table>\n",
       "<p>5572 rows × 2 columns</p>\n",
       "</div>"
      ],
      "text/plain": [
       "      y                                                  x\n",
       "0     0  Go until jurong point, crazy.. Available only ...\n",
       "1     0                      Ok lar... Joking wif u oni...\n",
       "2     1  Free entry in 2 a wkly comp to win FA Cup fina...\n",
       "3     0  U dun say so early hor... U c already then say...\n",
       "4     0  Nah I don't think he goes to usf, he lives aro...\n",
       "...  ..                                                ...\n",
       "5567  1  This is the 2nd time we have tried 2 contact u...\n",
       "5568  0              Will Ì_ b going to esplanade fr home?\n",
       "5569  0  Pity, * was in mood for that. So...any other s...\n",
       "5570  0  The guy did some bitching but I acted like i'd...\n",
       "5571  0                         Rofl. Its true to its name\n",
       "\n",
       "[5572 rows x 2 columns]"
      ]
     },
     "execution_count": 11,
     "metadata": {},
     "output_type": "execute_result"
    }
   ],
   "source": [
    "sp"
   ]
  },
  {
   "cell_type": "markdown",
   "id": "aaf64d76",
   "metadata": {},
   "source": [
    "## Convert data into lower string"
   ]
  },
  {
   "cell_type": "code",
   "execution_count": 12,
   "id": "4b2770f5",
   "metadata": {},
   "outputs": [],
   "source": [
    "sp.x=sp.x.str.lower()           ## because python is case sensitive language"
   ]
  },
  {
   "cell_type": "code",
   "execution_count": 13,
   "id": "70bb34ed",
   "metadata": {},
   "outputs": [
    {
     "data": {
      "text/html": [
       "<div>\n",
       "<style scoped>\n",
       "    .dataframe tbody tr th:only-of-type {\n",
       "        vertical-align: middle;\n",
       "    }\n",
       "\n",
       "    .dataframe tbody tr th {\n",
       "        vertical-align: top;\n",
       "    }\n",
       "\n",
       "    .dataframe thead th {\n",
       "        text-align: right;\n",
       "    }\n",
       "</style>\n",
       "<table border=\"1\" class=\"dataframe\">\n",
       "  <thead>\n",
       "    <tr style=\"text-align: right;\">\n",
       "      <th></th>\n",
       "      <th>y</th>\n",
       "      <th>x</th>\n",
       "    </tr>\n",
       "  </thead>\n",
       "  <tbody>\n",
       "    <tr>\n",
       "      <th>0</th>\n",
       "      <td>0</td>\n",
       "      <td>go until jurong point, crazy.. available only ...</td>\n",
       "    </tr>\n",
       "    <tr>\n",
       "      <th>1</th>\n",
       "      <td>0</td>\n",
       "      <td>ok lar... joking wif u oni...</td>\n",
       "    </tr>\n",
       "  </tbody>\n",
       "</table>\n",
       "</div>"
      ],
      "text/plain": [
       "   y                                                  x\n",
       "0  0  go until jurong point, crazy.. available only ...\n",
       "1  0                      ok lar... joking wif u oni..."
      ]
     },
     "execution_count": 13,
     "metadata": {},
     "output_type": "execute_result"
    }
   ],
   "source": [
    "sp.head(2)"
   ]
  },
  {
   "cell_type": "markdown",
   "id": "96a92717",
   "metadata": {},
   "source": [
    "## Punctuations"
   ]
  },
  {
   "cell_type": "code",
   "execution_count": 14,
   "id": "9bfa390c",
   "metadata": {},
   "outputs": [
    {
     "data": {
      "text/plain": [
       "'!\"#$%&\\'()*+,-./:;<=>?@[\\\\]^_`{|}~'"
      ]
     },
     "execution_count": 14,
     "metadata": {},
     "output_type": "execute_result"
    }
   ],
   "source": [
    "import string \n",
    "string.punctuation"
   ]
  },
  {
   "cell_type": "markdown",
   "id": "1d856a00",
   "metadata": {},
   "source": [
    "## Measuring Execution time and reduce it"
   ]
  },
  {
   "cell_type": "code",
   "execution_count": 15,
   "id": "60b3e180",
   "metadata": {},
   "outputs": [],
   "source": [
    "from sklearn.feature_extraction.text import CountVectorizer            ## (this is used to count each and every unique word)"
   ]
  },
  {
   "cell_type": "code",
   "execution_count": 16,
   "id": "d1b84378",
   "metadata": {},
   "outputs": [
    {
     "ename": "NameError",
     "evalue": "name 'text_process' is not defined",
     "output_type": "error",
     "traceback": [
      "\u001b[1;31m---------------------------------------------------------------------------\u001b[0m",
      "\u001b[1;31mNameError\u001b[0m                                 Traceback (most recent call last)",
      "Cell \u001b[1;32mIn[16], line 4\u001b[0m\n\u001b[0;32m      1\u001b[0m \u001b[38;5;28;01mimport\u001b[39;00m \u001b[38;5;21;01mtimeit\u001b[39;00m\n\u001b[0;32m      2\u001b[0m start\u001b[38;5;241m=\u001b[39m timeit\u001b[38;5;241m.\u001b[39mdefault_timer()\n\u001b[1;32m----> 4\u001b[0m bow_transformer\u001b[38;5;241m=\u001b[39mCountVectorizer(analyzer\u001b[38;5;241m=\u001b[39mtext_process)\u001b[38;5;241m.\u001b[39mfit(sp[\u001b[38;5;124m\"\u001b[39m\u001b[38;5;124mx\u001b[39m\u001b[38;5;124m\"\u001b[39m])\n\u001b[0;32m      6\u001b[0m stop\u001b[38;5;241m=\u001b[39m timeit\u001b[38;5;241m.\u001b[39mdefault_timer()\n\u001b[0;32m      7\u001b[0m execution_time\u001b[38;5;241m=\u001b[39mstop\u001b[38;5;241m-\u001b[39mstart\n",
      "\u001b[1;31mNameError\u001b[0m: name 'text_process' is not defined"
     ]
    }
   ],
   "source": [
    "import timeit\n",
    "start= timeit.default_timer()\n",
    "\n",
    "bow_transformer=CountVectorizer(analyzer=text_process).fit(sp[\"x\"])\n",
    "\n",
    "stop= timeit.default_timer()\n",
    "execution_time=stop-start\n",
    "print(\"program Executed in\",execution_time)"
   ]
  },
  {
   "cell_type": "markdown",
   "id": "d877b8cc",
   "metadata": {},
   "source": [
    "#### convert stopwords into list to decrease execution time"
   ]
  },
  {
   "cell_type": "code",
   "execution_count": 17,
   "id": "719d16ca",
   "metadata": {},
   "outputs": [],
   "source": [
    "l1=list(stopwords.words(\"english\"))"
   ]
  },
  {
   "cell_type": "markdown",
   "id": "e75f2c9d",
   "metadata": {},
   "source": [
    "## Before building the model we have to remove the stopwords"
   ]
  },
  {
   "cell_type": "code",
   "execution_count": 18,
   "id": "74480bf6",
   "metadata": {},
   "outputs": [],
   "source": [
    "def text_process(mess):  ## create a function\n",
    "    \n",
    "    \"\"\"\n",
    "    1.Remove the punctuations\n",
    "    2.Remove the stopwords\n",
    "    3.Return the list of clean textwors\n",
    "    \n",
    "    \"\"\"\n",
    "    nopunc=[char for char in mess if char not in string.punctuation]\n",
    "    nopunc=\"\".join(nopunc)\n",
    "    \n",
    "    return[word for word in nopunc.split() if word not in l1]\n",
    "    "
   ]
  },
  {
   "cell_type": "code",
   "execution_count": 19,
   "id": "a5e4e905",
   "metadata": {},
   "outputs": [],
   "source": [
    "# sp['x'].apply(text_process)               ## just for understanding"
   ]
  },
  {
   "cell_type": "markdown",
   "id": "f3d8ee9f",
   "metadata": {},
   "source": [
    "## WordCloud"
   ]
  },
  {
   "cell_type": "code",
   "execution_count": 20,
   "id": "b6fcf1bc",
   "metadata": {},
   "outputs": [],
   "source": [
    "## Word cloud is a pictorial representation of most frequent words"
   ]
  },
  {
   "cell_type": "code",
   "execution_count": 21,
   "id": "b9bc791d",
   "metadata": {},
   "outputs": [],
   "source": [
    "from wordcloud import WordCloud"
   ]
  },
  {
   "cell_type": "code",
   "execution_count": 22,
   "id": "18e42629",
   "metadata": {},
   "outputs": [],
   "source": [
    "import matplotlib.pyplot as plt"
   ]
  },
  {
   "cell_type": "code",
   "execution_count": 23,
   "id": "f065777a",
   "metadata": {},
   "outputs": [
    {
     "data": {
      "text/plain": [
       "<matplotlib.image.AxesImage at 0x22c90230510>"
      ]
     },
     "execution_count": 23,
     "metadata": {},
     "output_type": "execute_result"
    },
    {
     "data": {
      "image/png": "[encoded data removed]",
      "text/plain": [
       "<Figure size 1000x1000 with 1 Axes>"
      ]
     },
     "metadata": {},
     "output_type": "display_data"
    }
   ],
   "source": [
    "from wordcloud import WordCloud\n",
    "cloud  = WordCloud(stopwords = stopwords.words(\"english\"),max_words=50).generate(str(sp['x']))\n",
    "plt.figure(figsize=(10,10))\n",
    "plt.imshow(cloud)"
   ]
  },
  {
   "cell_type": "code",
   "execution_count": 24,
   "id": "70aef954",
   "metadata": {},
   "outputs": [],
   "source": [
    "# pip install WordCloud"
   ]
  },
  {
   "cell_type": "markdown",
   "id": "b296e32f",
   "metadata": {},
   "source": [
    "## tdm (Term document Matrix)"
   ]
  },
  {
   "cell_type": "code",
   "execution_count": 25,
   "id": "d1aea573",
   "metadata": {},
   "outputs": [],
   "source": [
    "from sklearn.feature_extraction.text import CountVectorizer            ## (this is used to count each and every unique word)"
   ]
  },
  {
   "cell_type": "code",
   "execution_count": 26,
   "id": "9bc570b6",
   "metadata": {},
   "outputs": [],
   "source": [
    "bow_transformer=CountVectorizer(analyzer=text_process).fit(sp[\"x\"])"
   ]
  },
  {
   "cell_type": "code",
   "execution_count": 27,
   "id": "1a36c289",
   "metadata": {},
   "outputs": [
    {
     "data": {
      "text/plain": [
       "{'go': 3748,\n",
       " 'jurong': 4644,\n",
       " 'point': 6376,\n",
       " 'crazy': 2463,\n",
       " 'available': 1375,\n",
       " 'bugis': 1840,\n",
       " 'n': 5624,\n",
       " 'great': 3845,\n",
       " 'world': 9107,\n",
       " 'la': 4803,\n",
       " 'e': 2988,\n",
       " 'buffet': 1838,\n",
       " 'cine': 2178,\n",
       " 'got': 3805,\n",
       " 'amore': 1142,\n",
       " 'wat': 8870,\n",
       " 'ok': 5940,\n",
       " 'lar': 4842,\n",
       " 'joking': 4612,\n",
       " 'wif': 9003,\n",
       " 'u': 8534,\n",
       " 'oni': 5972,\n",
       " 'free': 3539,\n",
       " 'entry': 3123,\n",
       " '2': 415,\n",
       " 'wkly': 9059,\n",
       " 'comp': 2294,\n",
       " 'win': 9017,\n",
       " 'fa': 3261,\n",
       " 'cup': 2518,\n",
       " 'final': 3385,\n",
       " 'tkts': 8311,\n",
       " '21st': 435,\n",
       " 'may': 5287,\n",
       " '2005': 422,\n",
       " 'text': 8150,\n",
       " '87121': 838,\n",
       " 'receive': 6774,\n",
       " 'questionstd': 6665,\n",
       " 'txt': 8518,\n",
       " 'ratetcs': 6718,\n",
       " 'apply': 1228,\n",
       " '08452810075over18s': 72,\n",
       " 'dun': 2974,\n",
       " 'say': 7129,\n",
       " 'early': 2995,\n",
       " 'hor': 4175,\n",
       " 'c': 1889,\n",
       " 'already': 1116,\n",
       " 'nah': 5631,\n",
       " 'dont': 2882,\n",
       " 'think': 8224,\n",
       " 'goes': 3762,\n",
       " 'usf': 8664,\n",
       " 'lives': 5004,\n",
       " 'around': 1279,\n",
       " 'though': 8243,\n",
       " 'freemsg': 3547,\n",
       " 'hey': 4071,\n",
       " 'darling': 2582,\n",
       " '3': 520,\n",
       " 'weeks': 8923,\n",
       " 'word': 9093,\n",
       " 'back': 1426,\n",
       " 'id': 4294,\n",
       " 'like': 4954,\n",
       " 'fun': 3610,\n",
       " 'still': 7793,\n",
       " 'tb': 8080,\n",
       " 'xxx': 9233,\n",
       " 'std': 7768,\n",
       " 'chgs': 2123,\n",
       " 'send': 7223,\n",
       " 'å£150': 9377,\n",
       " 'rcv': 6730,\n",
       " 'even': 3170,\n",
       " 'brother': 1807,\n",
       " 'speak': 7639,\n",
       " 'treat': 8444,\n",
       " 'aids': 1062,\n",
       " 'patent': 6171,\n",
       " 'per': 6212,\n",
       " 'request': 6887,\n",
       " 'melle': 5330,\n",
       " 'oru': 6036,\n",
       " 'minnaminunginte': 5412,\n",
       " 'nurungu': 5869,\n",
       " 'vettam': 8727,\n",
       " 'set': 7252,\n",
       " 'callertune': 1925,\n",
       " 'callers': 1924,\n",
       " 'press': 6504,\n",
       " '9': 876,\n",
       " 'copy': 2399,\n",
       " 'friends': 3571,\n",
       " 'winner': 9028,\n",
       " 'valued': 8698,\n",
       " 'network': 5707,\n",
       " 'customer': 2531,\n",
       " 'selected': 7209,\n",
       " 'receivea': 6775,\n",
       " 'å£900': 9418,\n",
       " 'prize': 6538,\n",
       " 'reward': 6946,\n",
       " 'claim': 2184,\n",
       " 'call': 1906,\n",
       " '09061701461': 218,\n",
       " 'code': 2245,\n",
       " 'kl341': 4759,\n",
       " 'valid': 8694,\n",
       " '12': 323,\n",
       " 'hours': 4194,\n",
       " 'mobile': 5470,\n",
       " '11': 313,\n",
       " 'months': 5515,\n",
       " 'r': 6679,\n",
       " 'entitled': 3120,\n",
       " 'update': 8621,\n",
       " 'latest': 4859,\n",
       " 'colour': 2268,\n",
       " 'mobiles': 5471,\n",
       " 'camera': 1942,\n",
       " 'co': 2234,\n",
       " '08002986030': 57,\n",
       " 'im': 4323,\n",
       " 'gonna': 3779,\n",
       " 'home': 4142,\n",
       " 'soon': 7589,\n",
       " 'want': 8849,\n",
       " 'talk': 8046,\n",
       " 'stuff': 7866,\n",
       " 'anymore': 1195,\n",
       " 'tonight': 8368,\n",
       " 'k': 4650,\n",
       " 'ive': 4518,\n",
       " 'cried': 2480,\n",
       " 'enough': 3111,\n",
       " 'today': 8328,\n",
       " 'six': 7441,\n",
       " 'chances': 2060,\n",
       " 'cash': 2003,\n",
       " '100': 293,\n",
       " '20000': 419,\n",
       " 'pounds': 6442,\n",
       " 'csh11': 2497,\n",
       " '87575': 842,\n",
       " 'cost': 2412,\n",
       " '150pday': 351,\n",
       " '6days': 725,\n",
       " '16': 375,\n",
       " 'tsandcs': 8479,\n",
       " 'reply': 6879,\n",
       " 'hl': 4108,\n",
       " '4': 580,\n",
       " 'info': 4386,\n",
       " 'urgent': 8643,\n",
       " '1': 291,\n",
       " 'week': 8918,\n",
       " 'membership': 5336,\n",
       " 'å£100000': 9371,\n",
       " 'jackpot': 4536,\n",
       " '81010': 788,\n",
       " 'tc': 8082,\n",
       " 'wwwdbuknet': 9176,\n",
       " 'lccltd': 4876,\n",
       " 'pobox': 6355,\n",
       " '4403ldnw1a7rw18': 601,\n",
       " 'searching': 7176,\n",
       " 'right': 6958,\n",
       " 'words': 9096,\n",
       " 'thank': 8168,\n",
       " 'breather': 1776,\n",
       " 'promise': 6577,\n",
       " 'wont': 9084,\n",
       " 'take': 8037,\n",
       " 'help': 4039,\n",
       " 'granted': 3834,\n",
       " 'fulfil': 3606,\n",
       " 'wonderful': 9081,\n",
       " 'blessing': 1647,\n",
       " 'times': 8287,\n",
       " 'date': 2591,\n",
       " 'sunday': 7934,\n",
       " 'xxxmobilemovieclub': 9234,\n",
       " 'use': 8658,\n",
       " 'credit': 2470,\n",
       " 'click': 2206,\n",
       " 'wap': 8854,\n",
       " 'link': 4977,\n",
       " 'next': 5725,\n",
       " 'message': 5361,\n",
       " 'httpwap': 4223,\n",
       " 'xxxmobilemovieclubcomnqjkgighjjgcbl': 9235,\n",
       " 'oh': 5933,\n",
       " 'kim': 4726,\n",
       " 'watching': 8875,\n",
       " 'eh': 3045,\n",
       " 'remember': 6846,\n",
       " 'spell': 7655,\n",
       " 'name': 5637,\n",
       " 'yes': 9273,\n",
       " 'v': 8686,\n",
       " 'naughty': 5663,\n",
       " 'make': 5205,\n",
       " 'wet': 8960,\n",
       " 'fine': 3393,\n",
       " 'thatåõs': 8187,\n",
       " 'way': 8886,\n",
       " 'feel': 3338,\n",
       " 'gota': 3806,\n",
       " 'b': 1406,\n",
       " 'england': 3102,\n",
       " 'macedonia': 5167,\n",
       " 'miss': 5431,\n",
       " 'goalsteam': 3754,\n",
       " 'news': 5720,\n",
       " 'ur': 8640,\n",
       " 'national': 5656,\n",
       " 'team': 8096,\n",
       " '87077': 837,\n",
       " 'eg': 3036,\n",
       " 'trywales': 8477,\n",
       " 'scotland': 7155,\n",
       " '4txtì¼120': 645,\n",
       " 'poboxox36504w45wq': 6367,\n",
       " 'seriously': 7245,\n",
       " 'i\\x89û÷m': 4525,\n",
       " 'going': 3767,\n",
       " 'try': 8474,\n",
       " 'ha': 3916,\n",
       " 'ì': 9426,\n",
       " 'pay': 6182,\n",
       " 'first': 3413,\n",
       " 'da': 2547,\n",
       " 'stock': 7797,\n",
       " 'comin': 2284,\n",
       " 'aft': 1024,\n",
       " 'finish': 3399,\n",
       " 'lunch': 5133,\n",
       " 'str': 7824,\n",
       " 'lor': 5060,\n",
       " 'ard': 1255,\n",
       " 'smth': 7527,\n",
       " 'ffffffffff': 3355,\n",
       " 'alright': 1118,\n",
       " 'meet': 5315,\n",
       " 'sooner': 7591,\n",
       " 'forced': 3490,\n",
       " 'eat': 3008,\n",
       " 'slice': 7476,\n",
       " 'really': 6755,\n",
       " 'hungry': 4251,\n",
       " 'tho': 8239,\n",
       " 'sucks': 7904,\n",
       " 'mark': 5241,\n",
       " 'getting': 3707,\n",
       " 'worried': 9113,\n",
       " 'knows': 4770,\n",
       " 'sick': 7384,\n",
       " 'turn': 8500,\n",
       " 'pizza': 6305,\n",
       " 'lol': 5037,\n",
       " 'always': 1128,\n",
       " 'convincing': 2385,\n",
       " 'catch': 2015,\n",
       " 'bus': 1860,\n",
       " 'frying': 3594,\n",
       " 'egg': 3040,\n",
       " 'tea': 8090,\n",
       " 'eating': 3011,\n",
       " 'moms': 5494,\n",
       " 'left': 4898,\n",
       " 'dinner': 2790,\n",
       " 'love': 5085,\n",
       " 'amp': 1144,\n",
       " 'packing': 6094,\n",
       " 'car': 1970,\n",
       " 'ill': 4320,\n",
       " 'let': 4921,\n",
       " 'know': 4766,\n",
       " 'theres': 8209,\n",
       " 'room': 7003,\n",
       " 'ahhh': 1053,\n",
       " 'work': 9099,\n",
       " 'vaguely': 8689,\n",
       " 'wait': 8819,\n",
       " 'thats': 8185,\n",
       " 'clear': 2200,\n",
       " 'sure': 7962,\n",
       " 'sarcastic': 7106,\n",
       " 'x': 9213,\n",
       " 'doesnt': 2854,\n",
       " 'live': 5000,\n",
       " 'us': 8654,\n",
       " 'yeah': 9260,\n",
       " 'apologetic': 1216,\n",
       " 'fallen': 3288,\n",
       " 'actin': 963,\n",
       " 'spoilt': 7683,\n",
       " 'child': 2139,\n",
       " 'caught': 2019,\n",
       " 'till': 8282,\n",
       " 'badly': 1432,\n",
       " 'cheers': 2105,\n",
       " 'tell': 8115,\n",
       " 'anything': 1201,\n",
       " 'fear': 3330,\n",
       " 'fainting': 3278,\n",
       " 'housework': 4199,\n",
       " 'quick': 6666,\n",
       " 'cuppa': 2520,\n",
       " 'thanks': 8169,\n",
       " 'subscription': 7893,\n",
       " 'ringtone': 6967,\n",
       " 'uk': 8549,\n",
       " 'charged': 2072,\n",
       " 'å£5month': 9410,\n",
       " 'please': 6334,\n",
       " 'confirm': 2340,\n",
       " 'replying': 6881,\n",
       " 'yup': 9344,\n",
       " 'look': 5048,\n",
       " 'timings': 8294,\n",
       " 'msg': 5557,\n",
       " 'xuhui': 9229,\n",
       " 'learn': 4887,\n",
       " '2nd': 495,\n",
       " 'lesson': 4919,\n",
       " '8am': 865,\n",
       " 'oops': 5990,\n",
       " 'roommates': 7006,\n",
       " 'done': 2879,\n",
       " 'see': 7193,\n",
       " 'letter': 4923,\n",
       " 'decide': 2645,\n",
       " 'hello': 4032,\n",
       " 'hows': 4206,\n",
       " 'saturday': 7120,\n",
       " 'texting': 8158,\n",
       " 'youd': 9307,\n",
       " 'decided': 2646,\n",
       " 'tomo': 8353,\n",
       " 'trying': 8476,\n",
       " 'invite': 4450,\n",
       " 'pls': 6342,\n",
       " 'ahead': 1051,\n",
       " 'watts': 8884,\n",
       " 'wanted': 8851,\n",
       " 'weekend': 8920,\n",
       " 'abiola': 915,\n",
       " 'forget': 3496,\n",
       " 'need': 5682,\n",
       " 'crave': 2460,\n",
       " 'sweet': 7993,\n",
       " 'arabian': 1252,\n",
       " 'steed': 7775,\n",
       " 'mmmmmm': 5460,\n",
       " 'yummy': 9339,\n",
       " '07732584351': 29,\n",
       " 'rodger': 6992,\n",
       " 'burns': 1857,\n",
       " 'tried': 8453,\n",
       " 'sms': 7521,\n",
       " 'nokia': 5789,\n",
       " 'camcorder': 1940,\n",
       " '08000930705': 53,\n",
       " 'delivery': 2684,\n",
       " 'tomorrow': 8356,\n",
       " 'seeing': 7195,\n",
       " 'hope': 4166,\n",
       " 'man': 5215,\n",
       " 'well': 8937,\n",
       " 'endowed': 3092,\n",
       " 'ltgt': 5118,\n",
       " 'inches': 4354,\n",
       " 'callsmessagesmissed': 1933,\n",
       " 'calls': 1931,\n",
       " 'didnt': 2758,\n",
       " 'get': 3699,\n",
       " 'hep': 4053,\n",
       " 'immunisation': 4335,\n",
       " 'nigeria': 5738,\n",
       " 'fair': 3279,\n",
       " 'hopefully': 4170,\n",
       " 'tyler': 8528,\n",
       " 'cant': 1959,\n",
       " 'could': 2424,\n",
       " 'maybe': 5289,\n",
       " 'ask': 1307,\n",
       " 'bit': 1622,\n",
       " 'stubborn': 7855,\n",
       " 'hospital': 4182,\n",
       " 'kept': 4697,\n",
       " 'telling': 8116,\n",
       " 'weak': 8892,\n",
       " 'sucker': 7902,\n",
       " 'hospitals': 4183,\n",
       " 'suckers': 7903,\n",
       " 'thinked': 8225,\n",
       " 'time': 8284,\n",
       " 'saw': 7128,\n",
       " 'class': 2192,\n",
       " 'gram': 3826,\n",
       " 'usually': 8675,\n",
       " 'runs': 7050,\n",
       " 'half': 3933,\n",
       " 'eighth': 3048,\n",
       " 'smarter': 7499,\n",
       " 'gets': 3703,\n",
       " 'almost': 1112,\n",
       " 'whole': 8992,\n",
       " 'second': 7180,\n",
       " 'fyi': 3625,\n",
       " 'ride': 6957,\n",
       " 'morning': 5524,\n",
       " 'hes': 4066,\n",
       " 'crashing': 2459,\n",
       " 'place': 6307,\n",
       " 'wow': 9132,\n",
       " 'never': 5711,\n",
       " 'realized': 6753,\n",
       " 'embarassed': 3073,\n",
       " 'accomodations': 943,\n",
       " 'thought': 8244,\n",
       " 'liked': 4955,\n",
       " 'since': 7411,\n",
       " 'best': 1576,\n",
       " 'seemed': 7199,\n",
       " 'happy': 3967,\n",
       " 'cave': 2023,\n",
       " 'sorry': 7601,\n",
       " 'give': 3729,\n",
       " 'offered': 5913,\n",
       " 'embarassing': 3074,\n",
       " 'ac': 929,\n",
       " 'sptv': 7706,\n",
       " 'new': 5715,\n",
       " 'jersey': 4579,\n",
       " 'devils': 2737,\n",
       " 'detroit': 2731,\n",
       " 'red': 6798,\n",
       " 'wings': 9026,\n",
       " 'play': 6323,\n",
       " 'ice': 4289,\n",
       " 'hockey': 4126,\n",
       " 'correct': 2404,\n",
       " 'incorrect': 4365,\n",
       " 'end': 3088,\n",
       " 'mallika': 5214,\n",
       " 'sherawat': 7306,\n",
       " 'yesterday': 9288,\n",
       " 'find': 3390,\n",
       " 'lturlgt': 5121,\n",
       " 'congrats': 2347,\n",
       " 'year': 9262,\n",
       " 'special': 7641,\n",
       " 'cinema': 2179,\n",
       " 'pass': 6159,\n",
       " '09061209465': 213,\n",
       " 'suprman': 7960,\n",
       " 'matrix3': 5274,\n",
       " 'starwars3': 7755,\n",
       " 'etc': 3156,\n",
       " 'bx420ip45we': 1882,\n",
       " '150pm': 352,\n",
       " 'later': 4857,\n",
       " 'meeting': 5318,\n",
       " 'reached': 6736,\n",
       " 'yesgauti': 9281,\n",
       " 'sehwag': 7206,\n",
       " 'odi': 5907,\n",
       " 'series': 7243,\n",
       " 'pick': 6275,\n",
       " 'burger': 1852,\n",
       " 'move': 5542,\n",
       " 'pain': 6101,\n",
       " 'killing': 4723,\n",
       " 'good': 3781,\n",
       " 'joke': 4607,\n",
       " 'girls': 3726,\n",
       " 'situation': 7437,\n",
       " 'seekers': 7196,\n",
       " 'part': 6146,\n",
       " 'checking': 2099,\n",
       " 'iq': 4465,\n",
       " 'took': 8374,\n",
       " 'forever': 3493,\n",
       " 'come': 2276,\n",
       " 'double': 2897,\n",
       " 'check': 2095,\n",
       " 'hair': 3928,\n",
       " 'dresser': 2931,\n",
       " 'said': 7075,\n",
       " 'wun': 9162,\n",
       " 'cut': 2535,\n",
       " 'short': 7346,\n",
       " 'nice': 5731,\n",
       " 'pleased': 6335,\n",
       " 'advise': 1007,\n",
       " 'following': 3472,\n",
       " 'recent': 6778,\n",
       " 'review': 6944,\n",
       " 'mob': 5468,\n",
       " 'awarded': 1394,\n",
       " 'å£1500': 9378,\n",
       " 'bonus': 1691,\n",
       " '09066364589': 262,\n",
       " 'song': 7583,\n",
       " 'dedicated': 2656,\n",
       " 'day': 2603,\n",
       " 'dedicate': 2655,\n",
       " 'valuable': 8696,\n",
       " 'frnds': 3580,\n",
       " 'rply': 7023,\n",
       " 'complimentary': 2313,\n",
       " 'trip': 8454,\n",
       " 'eurodisinc': 3163,\n",
       " 'trav': 8436,\n",
       " 'acoentry41': 958,\n",
       " 'å£1000': 9369,\n",
       " 'dis': 2803,\n",
       " '186å£150morefrmmob': 384,\n",
       " 'shracomorsglsuplt10': 7370,\n",
       " 'ls1': 5107,\n",
       " '3aj': 553,\n",
       " 'hear': 4008,\n",
       " 'divorce': 2832,\n",
       " 'barbie': 1463,\n",
       " 'comes': 2280,\n",
       " 'kens': 4695,\n",
       " 'plane': 6314,\n",
       " 'month': 5511,\n",
       " 'wah': 8812,\n",
       " 'lucky': 5126,\n",
       " 'save': 7124,\n",
       " 'money': 5499,\n",
       " 'hee': 4024,\n",
       " 'finished': 3401,\n",
       " 'hi': 4077,\n",
       " 'babe': 1415,\n",
       " 'wanna': 8847,\n",
       " 'something': 7569,\n",
       " 'xx': 9230,\n",
       " 'kkwhere': 4756,\n",
       " 'youhow': 9310,\n",
       " 'performed': 6219,\n",
       " 'waiting': 8823,\n",
       " 'machan': 5169,\n",
       " 'cool': 2391,\n",
       " 'gentleman': 3690,\n",
       " 'dignity': 2780,\n",
       " 'respect': 6908,\n",
       " 'peoples': 6211,\n",
       " 'much': 5577,\n",
       " 'shy': 7379,\n",
       " 'pa': 6089,\n",
       " 'operate': 5997,\n",
       " 'looking': 5052,\n",
       " 'job': 4594,\n",
       " 'tas': 8064,\n",
       " 'earn': 2996,\n",
       " 'ah': 1049,\n",
       " 'stop': 7807,\n",
       " 'urgnt': 8647,\n",
       " 'real': 6746,\n",
       " 'yo': 9298,\n",
       " 'tickets': 8273,\n",
       " 'one': 5968,\n",
       " 'jacket': 4535,\n",
       " 'used': 8659,\n",
       " 'multis': 5588,\n",
       " 'started': 7748,\n",
       " 'requests': 6888,\n",
       " 'came': 1941,\n",
       " 'bed': 1532,\n",
       " 'coins': 2252,\n",
       " 'factory': 3269,\n",
       " 'gotta': 3810,\n",
       " 'nitros': 5761,\n",
       " 'ela': 3053,\n",
       " 'kanoil': 4672,\n",
       " 'download': 2905,\n",
       " 'wen': 8943,\n",
       " 'don\\x89û÷t': 2886,\n",
       " 'stand': 7736,\n",
       " 'close': 2213,\n",
       " 'you\\x89û÷ll': 9330,\n",
       " 'another': 1179,\n",
       " 'night': 5740,\n",
       " 'spent': 7660,\n",
       " 'late': 4852,\n",
       " 'afternoon': 1026,\n",
       " 'casualty': 2013,\n",
       " 'means': 5301,\n",
       " 'havent': 3989,\n",
       " 'stuff42moro': 7867,\n",
       " 'includes': 4358,\n",
       " 'sheets': 7301,\n",
       " 'smile': 7508,\n",
       " 'pleasure': 6337,\n",
       " 'trouble': 8460,\n",
       " 'pours': 6444,\n",
       " 'rain': 6691,\n",
       " 'sum1': 7925,\n",
       " 'hurts': 4265,\n",
       " 'becoz': 1530,\n",
       " 'someone': 7562,\n",
       " 'loves': 5095,\n",
       " 'smiling': 7512,\n",
       " 'service': 7248,\n",
       " 'representative': 6885,\n",
       " '0800': 49,\n",
       " '169': 377,\n",
       " '6031': 693,\n",
       " '10am9pm': 307,\n",
       " 'guaranteed': 3883,\n",
       " 'å£5000': 9405,\n",
       " 'planning': 6319,\n",
       " 'buy': 1872,\n",
       " 'lido': 4936,\n",
       " '530': 665,\n",
       " 'show': 7361,\n",
       " 'collected': 2261,\n",
       " 'simply': 7408,\n",
       " 'password': 6167,\n",
       " 'mix': 5451,\n",
       " '85069': 823,\n",
       " 'verify': 8723,\n",
       " 'usher': 8666,\n",
       " 'britney': 1797,\n",
       " 'fml': 3462,\n",
       " 'telugu': 8121,\n",
       " 'moviewat': 5547,\n",
       " 'abt': 924,\n",
       " 'loads': 5014,\n",
       " 'loans': 5016,\n",
       " 'wk': 9055,\n",
       " 'hols': 4140,\n",
       " 'run': 7047,\n",
       " 'forgot': 3501,\n",
       " 'hairdressers': 3930,\n",
       " 'appointment': 1232,\n",
       " 'four': 3520,\n",
       " 'shower': 7363,\n",
       " 'beforehand': 1545,\n",
       " 'cause': 2020,\n",
       " 'prob': 6544,\n",
       " 'ham': 3939,\n",
       " 'nothing': 5823,\n",
       " 'else': 3067,\n",
       " 'okay': 5941,\n",
       " 'price': 6517,\n",
       " 'long': 5044,\n",
       " 'legal': 4901,\n",
       " 'ave': 1381,\n",
       " 'ams': 1148,\n",
       " 'gone': 3776,\n",
       " '4the': 642,\n",
       " 'driving': 2940,\n",
       " 'test': 8144,\n",
       " 'yet': 9289,\n",
       " 'youre': 9320,\n",
       " 'mean': 5297,\n",
       " 'guess': 3891,\n",
       " 'gave': 3660,\n",
       " 'boston': 1713,\n",
       " 'men': 5341,\n",
       " 'changed': 2062,\n",
       " 'search': 7175,\n",
       " 'location': 5019,\n",
       " 'nyc': 5879,\n",
       " 'cuz': 2542,\n",
       " 'signin': 7396,\n",
       " 'page': 6097,\n",
       " 'says': 7133,\n",
       " 'umma': 8558,\n",
       " 'life': 4939,\n",
       " 'vava': 8710,\n",
       " 'lot': 5070,\n",
       " 'dear': 2627,\n",
       " 'wishes': 9040,\n",
       " 'birthday': 1620,\n",
       " 'making': 5209,\n",
       " 'truly': 8468,\n",
       " 'memorable': 5338,\n",
       " 'aight': 1064,\n",
       " 'hit': 4099,\n",
       " 'would': 9128,\n",
       " 'ip': 4458,\n",
       " 'address': 982,\n",
       " 'considering': 2358,\n",
       " 'computer': 2320,\n",
       " 'isnt': 4484,\n",
       " 'minecraft': 5408,\n",
       " 'server': 7247,\n",
       " 'grumpy': 3876,\n",
       " 'old': 5958,\n",
       " 'people': 6210,\n",
       " 'mom': 5491,\n",
       " 'better': 1584,\n",
       " 'lying': 5149,\n",
       " 'jokes': 4609,\n",
       " 'worry': 9116,\n",
       " 'busy': 1866,\n",
       " 'plural': 6347,\n",
       " 'noun': 5832,\n",
       " 'research': 6894,\n",
       " 'dinnermsg': 2791,\n",
       " 'cos': 2410,\n",
       " 'things': 8223,\n",
       " 'scared': 7140,\n",
       " 'mah': 5193,\n",
       " 'loud': 5080,\n",
       " 'gent': 3688,\n",
       " 'contact': 2363,\n",
       " 'last': 4849,\n",
       " 'weekends': 8921,\n",
       " 'draw': 2919,\n",
       " 'shows': 7369,\n",
       " '09064012160': 237,\n",
       " 'k52': 4651,\n",
       " '12hrs': 334,\n",
       " '150ppm': 362,\n",
       " 'wa': 8807,\n",
       " 'openin': 5994,\n",
       " 'sentence': 7236,\n",
       " 'formal': 3504,\n",
       " 'anyway': 1205,\n",
       " 'juz': 4649,\n",
       " 'tt': 8486,\n",
       " 'eatin': 3010,\n",
       " 'puttin': 6642,\n",
       " 'weighthaha': 8928,\n",
       " 'anythin': 1200,\n",
       " 'happened': 3959,\n",
       " 'entered': 3113,\n",
       " 'cabin': 1892,\n",
       " 'bday': 1515,\n",
       " 'boss': 1712,\n",
       " 'felt': 3347,\n",
       " 'askd': 1308,\n",
       " 'invited': 4451,\n",
       " 'apartment': 1210,\n",
       " 'went': 8946,\n",
       " 'specially': 7646,\n",
       " 'holiday': 4136,\n",
       " 'flights': 3439,\n",
       " 'inc': 4352,\n",
       " 'operator': 5998,\n",
       " '0871277810910pmin': 122,\n",
       " '18': 380,\n",
       " 'goodo': 3795,\n",
       " 'must': 5608,\n",
       " 'friday': 3564,\n",
       " 'eggpotato': 3041,\n",
       " 'ratio': 6720,\n",
       " 'tortilla': 8393,\n",
       " 'needed': 5684,\n",
       " 'hmmmy': 4121,\n",
       " 'uncle': 8565,\n",
       " 'informed': 4390,\n",
       " 'paying': 6187,\n",
       " 'school': 7146,\n",
       " 'directly': 2797,\n",
       " 'food': 3479,\n",
       " 'private': 6535,\n",
       " '2004': 421,\n",
       " 'account': 947,\n",
       " 'statement': 7758,\n",
       " '07742676969': 31,\n",
       " '786': 755,\n",
       " 'unredeemed': 8607,\n",
       " 'points': 6377,\n",
       " '08719180248': 170,\n",
       " 'identifier': 4301,\n",
       " '45239': 613,\n",
       " 'expires': 3239,\n",
       " 'å£2000': 9390,\n",
       " 'caller': 1923,\n",
       " '5903': 670,\n",
       " 'landline': 4829,\n",
       " '09064019788': 243,\n",
       " 'box42wr29c': 1739,\n",
       " 'applespairsall': 1226,\n",
       " 'malarky': 5211,\n",
       " 'todays': 8334,\n",
       " 'voda': 8776,\n",
       " 'numbers': 5865,\n",
       " 'ending': 3090,\n",
       " '7548': 750,\n",
       " '350': 543,\n",
       " 'award': 1393,\n",
       " 'match': 5262,\n",
       " '08712300220': 104,\n",
       " 'quoting': 6678,\n",
       " '4041': 585,\n",
       " 'standard': 7737,\n",
       " 'rates': 6717,\n",
       " 'app': 1220,\n",
       " 'sao': 7100,\n",
       " 'mu': 5576,\n",
       " 'ìï': 9429,\n",
       " 'predict': 6479,\n",
       " 'ìll': 9427,\n",
       " 'buying': 1875,\n",
       " 'knowyetunde': 4773,\n",
       " 'hasnt': 3979,\n",
       " 'sent': 7234,\n",
       " 'bother': 1715,\n",
       " 'sending': 7226,\n",
       " 'involve': 4455,\n",
       " 'shouldnt': 7355,\n",
       " 'imposed': 4341,\n",
       " 'apologise': 1217,\n",
       " 'girl': 3722,\n",
       " 'del': 2674,\n",
       " 'bak': 1440,\n",
       " 'sum': 7924,\n",
       " 'lucyxx': 5130,\n",
       " 'kkhow': 4750,\n",
       " 'tmorrowpls': 8316,\n",
       " 'accomodate': 942,\n",
       " 'answer': 1182,\n",
       " 'question': 6662,\n",
       " 'sunshine': 7941,\n",
       " 'quiz': 6673,\n",
       " 'q': 6648,\n",
       " 'top': 8383,\n",
       " 'sony': 7586,\n",
       " 'dvd': 2983,\n",
       " 'player': 6325,\n",
       " 'country': 2431,\n",
       " 'algarve': 1093,\n",
       " 'ansr': 1181,\n",
       " '82277': 794,\n",
       " 'sptyrone': 7707,\n",
       " 'laid': 4820,\n",
       " 'dogging': 2861,\n",
       " 'locations': 5020,\n",
       " 'direct': 2796,\n",
       " 'join': 4602,\n",
       " 'uks': 8552,\n",
       " 'largest': 4846,\n",
       " 'bt': 1824,\n",
       " 'txting': 8523,\n",
       " 'gravel': 3839,\n",
       " '69888': 719,\n",
       " 'nt': 5853,\n",
       " 'ec2a': 3013,\n",
       " '31pmsg150p': 536,\n",
       " 'haf': 3922,\n",
       " 'msn': 5569,\n",
       " 'yijuehotmailcom': 9295,\n",
       " 'rooms': 7007,\n",
       " 'befor': 1544,\n",
       " 'activities': 969,\n",
       " 'youll': 9314,\n",
       " 'msgs': 5561,\n",
       " 'chat': 2084,\n",
       " 'svc': 7978,\n",
       " 'hardcore': 3969,\n",
       " 'services': 7249,\n",
       " '69988': 723,\n",
       " 'age': 1034,\n",
       " 'yr': 9335,\n",
       " 'lazy': 4875,\n",
       " 'type': 8530,\n",
       " 'lect': 4895,\n",
       " 'pouch': 6439,\n",
       " 'sir': 7423,\n",
       " 'mail': 5196,\n",
       " 'swt': 8007,\n",
       " 'nver': 5874,\n",
       " 'tired': 8297,\n",
       " 'little': 4999,\n",
       " 'lovable': 5084,\n",
       " 'persons': 6237,\n",
       " 'cozsomtimes': 2445,\n",
       " 'occupy': 5900,\n",
       " 'biggest': 1601,\n",
       " 'hearts': 4016,\n",
       " 'gud': 3885,\n",
       " 'ni8': 5728,\n",
       " 'open': 5991,\n",
       " 'ya': 9244,\n",
       " 'dot': 2896,\n",
       " 'whats': 8969,\n",
       " 'staff': 7727,\n",
       " 'taking': 8043,\n",
       " 'replied': 6877,\n",
       " 'randy': 6710,\n",
       " 'sexy': 7265,\n",
       " 'female': 3348,\n",
       " 'local': 5018,\n",
       " 'luv': 5139,\n",
       " 'netcollex': 5703,\n",
       " 'ltd': 5113,\n",
       " '08700621170150p': 74,\n",
       " 'ummmawill': 8559,\n",
       " 'inour': 4407,\n",
       " 'begin': 1550,\n",
       " 'qatar': 6649,\n",
       " 'pray': 6472,\n",
       " 'hard': 3968,\n",
       " 'ki': 4711,\n",
       " 'deleted': 2678,\n",
       " 'sindu': 7413,\n",
       " 'birla': 1616,\n",
       " 'soft': 7549,\n",
       " 'wine': 9024,\n",
       " 'flowing': 3453,\n",
       " 'nevering': 5712,\n",
       " 'thk': 8233,\n",
       " 'plaza': 6332,\n",
       " 'typical': 8533,\n",
       " 'everywhere': 3189,\n",
       " 'dirt': 2800,\n",
       " 'floor': 3447,\n",
       " 'windows': 9021,\n",
       " 'shirt': 7320,\n",
       " 'sometimes': 7573,\n",
       " 'mouth': 5541,\n",
       " 'dream': 2923,\n",
       " 'without': 9049,\n",
       " 'chores': 2165,\n",
       " 'joy': 4624,\n",
       " 'lots': 5073,\n",
       " 'tv': 8505,\n",
       " 'exist': 3223,\n",
       " 'hail': 3927,\n",
       " 'mist': 5442,\n",
       " 'become': 1528,\n",
       " 'aaooooright': 904,\n",
       " 'leaving': 4894,\n",
       " 'house': 4195,\n",
       " 'interview': 4437,\n",
       " 'boy': 1744,\n",
       " 'meare': 5304,\n",
       " 'missing': 5435,\n",
       " 'annoncement': 1172,\n",
       " 'years': 9263,\n",
       " '07046744435': 22,\n",
       " 'arrange': 1283,\n",
       " '0871277810810': 121,\n",
       " 'keep': 4689,\n",
       " 'safe': 7070,\n",
       " 'envy': 3127,\n",
       " 'everyone': 3183,\n",
       " 'sees': 7203,\n",
       " 'parentsi': 6137,\n",
       " 'hand': 3942,\n",
       " 'excited': 3211,\n",
       " 'spend': 7658,\n",
       " 'bootydelious': 1704,\n",
       " '32f': 541,\n",
       " 'inviting': 4452,\n",
       " 'friend': 3569,\n",
       " 'yes434': 9275,\n",
       " 'no434': 5768,\n",
       " 'wwwsmsacubootydelious': 9196,\n",
       " 'frnd': 3579,\n",
       " '62468': 701,\n",
       " 'bangbabes': 1454,\n",
       " 'order': 6022,\n",
       " 'content': 2367,\n",
       " 'goto': 3809,\n",
       " 'bangb': 1453,\n",
       " 'internetservice': 4436,\n",
       " 'menu': 5349,\n",
       " 'cultures': 2514,\n",
       " 'module': 5484,\n",
       " '09061701939': 220,\n",
       " 's89': 7060,\n",
       " 'avoid': 1387,\n",
       " 'missunderstding': 5440,\n",
       " 'wit': 9045,\n",
       " 'beloved': 1566,\n",
       " 'ones': 5970,\n",
       " 'escape': 3146,\n",
       " 'fancy': 3300,\n",
       " 'bridge': 1781,\n",
       " 'needs': 5688,\n",
       " 'lager': 4819,\n",
       " 'completely': 2309,\n",
       " 'formclark': 3508,\n",
       " 'also': 1122,\n",
       " 'utter': 8677,\n",
       " 'waste': 8867,\n",
       " 'axis': 1401,\n",
       " 'bank': 1456,\n",
       " 'hmmm': 4115,\n",
       " 'hop': 4165,\n",
       " 'muz': 5614,\n",
       " 'discuss': 2816,\n",
       " 'liao': 4928,\n",
       " 'coming': 2285,\n",
       " 'bloody': 1662,\n",
       " 'hell': 4030,\n",
       " 'believe': 1557,\n",
       " 'surname': 7968,\n",
       " ...}"
      ]
     },
     "execution_count": 27,
     "metadata": {},
     "output_type": "execute_result"
    }
   ],
   "source": [
    "bow_transformer.vocabulary_"
   ]
  },
  {
   "cell_type": "code",
   "execution_count": 28,
   "id": "7b531cbb",
   "metadata": {},
   "outputs": [
    {
     "data": {
      "text/plain": [
       "9431"
      ]
     },
     "execution_count": 28,
     "metadata": {},
     "output_type": "execute_result"
    }
   ],
   "source": [
    "len(bow_transformer.vocabulary_)\n",
    "\n",
    "## there are 9422unique words(after removing punctuations and stopwords)\n",
    "## that when we create our tdm , our tdm have 9422 this many columns"
   ]
  },
  {
   "cell_type": "code",
   "execution_count": 29,
   "id": "062b21b7",
   "metadata": {},
   "outputs": [],
   "source": [
    "tdm=bow_transformer.transform(sp[\"x\"])"
   ]
  },
  {
   "cell_type": "code",
   "execution_count": 30,
   "id": "ba172f84",
   "metadata": {},
   "outputs": [
    {
     "data": {
      "text/plain": [
       "(5572, 9431)"
      ]
     },
     "execution_count": 30,
     "metadata": {},
     "output_type": "execute_result"
    }
   ],
   "source": [
    "tdm.shape"
   ]
  },
  {
   "cell_type": "code",
   "execution_count": 31,
   "id": "0f800f3e",
   "metadata": {},
   "outputs": [
    {
     "data": {
      "text/plain": [
       "scipy.sparse._csr.csr_matrix"
      ]
     },
     "execution_count": 31,
     "metadata": {},
     "output_type": "execute_result"
    }
   ],
   "source": [
    "type(tdm)"
   ]
  },
  {
   "cell_type": "code",
   "execution_count": 32,
   "id": "0daec8c7",
   "metadata": {},
   "outputs": [],
   "source": [
    "## tdm is like our x variables"
   ]
  },
  {
   "cell_type": "markdown",
   "id": "31fc2228",
   "metadata": {},
   "source": [
    "## Sampling"
   ]
  },
  {
   "cell_type": "code",
   "execution_count": 33,
   "id": "9a7c3d7e",
   "metadata": {},
   "outputs": [],
   "source": [
    "from sklearn.model_selection import train_test_split"
   ]
  },
  {
   "cell_type": "code",
   "execution_count": 34,
   "id": "09f69759",
   "metadata": {},
   "outputs": [],
   "source": [
    "tdm_train,tdm_test,train_y,test_y = train_test_split(tdm,sp[\"y\"],test_size=.2)"
   ]
  },
  {
   "cell_type": "markdown",
   "id": "dc3fcc5a",
   "metadata": {},
   "source": [
    "## naive_bayes"
   ]
  },
  {
   "cell_type": "code",
   "execution_count": 35,
   "id": "fe3343e2",
   "metadata": {},
   "outputs": [],
   "source": [
    "from sklearn.naive_bayes import MultinomialNB\n",
    "nb=MultinomialNB()"
   ]
  },
  {
   "cell_type": "code",
   "execution_count": 36,
   "id": "27e3b120",
   "metadata": {},
   "outputs": [
    {
     "data": {
      "text/html": [
       "<style>#sk-container-id-1 {color: black;background-color: white;}#sk-container-id-1 pre{padding: 0;}#sk-container-id-1 div.sk-toggleable {background-color: white;}#sk-container-id-1 label.sk-toggleable__label {cursor: pointer;display: block;width: 100%;margin-bottom: 0;padding: 0.3em;box-sizing: border-box;text-align: center;}#sk-container-id-1 label.sk-toggleable__label-arrow:before {content: \"▸\";float: left;margin-right: 0.25em;color: #696969;}#sk-container-id-1 label.sk-toggleable__label-arrow:hover:before {color: black;}#sk-container-id-1 div.sk-estimator:hover label.sk-toggleable__label-arrow:before {color: black;}#sk-container-id-1 div.sk-toggleable__content {max-height: 0;max-width: 0;overflow: hidden;text-align: left;background-color: #f0f8ff;}#sk-container-id-1 div.sk-toggleable__content pre {margin: 0.2em;color: black;border-radius: 0.25em;background-color: #f0f8ff;}#sk-container-id-1 input.sk-toggleable__control:checked~div.sk-toggleable__content {max-height: 200px;max-width: 100%;overflow: auto;}#sk-container-id-1 input.sk-toggleable__control:checked~label.sk-toggleable__label-arrow:before {content: \"▾\";}#sk-container-id-1 div.sk-estimator input.sk-toggleable__control:checked~label.sk-toggleable__label {background-color: #d4ebff;}#sk-container-id-1 div.sk-label input.sk-toggleable__control:checked~label.sk-toggleable__label {background-color: #d4ebff;}#sk-container-id-1 input.sk-hidden--visually {border: 0;clip: rect(1px 1px 1px 1px);clip: rect(1px, 1px, 1px, 1px);height: 1px;margin: -1px;overflow: hidden;padding: 0;position: absolute;width: 1px;}#sk-container-id-1 div.sk-estimator {font-family: monospace;background-color: #f0f8ff;border: 1px dotted black;border-radius: 0.25em;box-sizing: border-box;margin-bottom: 0.5em;}#sk-container-id-1 div.sk-estimator:hover {background-color: #d4ebff;}#sk-container-id-1 div.sk-parallel-item::after {content: \"\";width: 100%;border-bottom: 1px solid gray;flex-grow: 1;}#sk-container-id-1 div.sk-label:hover label.sk-toggleable__label {background-color: #d4ebff;}#sk-container-id-1 div.sk-serial::before {content: \"\";position: absolute;border-left: 1px solid gray;box-sizing: border-box;top: 0;bottom: 0;left: 50%;z-index: 0;}#sk-container-id-1 div.sk-serial {display: flex;flex-direction: column;align-items: center;background-color: white;padding-right: 0.2em;padding-left: 0.2em;position: relative;}#sk-container-id-1 div.sk-item {position: relative;z-index: 1;}#sk-container-id-1 div.sk-parallel {display: flex;align-items: stretch;justify-content: center;background-color: white;position: relative;}#sk-container-id-1 div.sk-item::before, #sk-container-id-1 div.sk-parallel-item::before {content: \"\";position: absolute;border-left: 1px solid gray;box-sizing: border-box;top: 0;bottom: 0;left: 50%;z-index: -1;}#sk-container-id-1 div.sk-parallel-item {display: flex;flex-direction: column;z-index: 1;position: relative;background-color: white;}#sk-container-id-1 div.sk-parallel-item:first-child::after {align-self: flex-end;width: 50%;}#sk-container-id-1 div.sk-parallel-item:last-child::after {align-self: flex-start;width: 50%;}#sk-container-id-1 div.sk-parallel-item:only-child::after {width: 0;}#sk-container-id-1 div.sk-dashed-wrapped {border: 1px dashed gray;margin: 0 0.4em 0.5em 0.4em;box-sizing: border-box;padding-bottom: 0.4em;background-color: white;}#sk-container-id-1 div.sk-label label {font-family: monospace;font-weight: bold;display: inline-block;line-height: 1.2em;}#sk-container-id-1 div.sk-label-container {text-align: center;}#sk-container-id-1 div.sk-container {/* jupyter's `normalize.less` sets `[hidden] { display: none; }` but bootstrap.min.css set `[hidden] { display: none !important; }` so we also need the `!important` here to be able to override the default hidden behavior on the sphinx rendered scikit-learn.org. See: https://github.com/scikit-learn/scikit-learn/issues/21755 */display: inline-block !important;position: relative;}#sk-container-id-1 div.sk-text-repr-fallback {display: none;}</style><div id=\"sk-container-id-1\" class=\"sk-top-container\"><div class=\"sk-text-repr-fallback\"><pre>MultinomialNB()</pre><b>In a Jupyter environment, please rerun this cell to show the HTML representation or trust the notebook. <br />On GitHub, the HTML representation is unable to render, please try loading this page with nbviewer.org.</b></div><div class=\"sk-container\" hidden><div class=\"sk-item\"><div class=\"sk-estimator sk-toggleable\"><input class=\"sk-toggleable__control sk-hidden--visually\" id=\"sk-estimator-id-1\" type=\"checkbox\" checked><label for=\"sk-estimator-id-1\" class=\"sk-toggleable__label sk-toggleable__label-arrow\">MultinomialNB</label><div class=\"sk-toggleable__content\"><pre>MultinomialNB()</pre></div></div></div></div></div>"
      ],
      "text/plain": [
       "MultinomialNB()"
      ]
     },
     "execution_count": 36,
     "metadata": {},
     "output_type": "execute_result"
    }
   ],
   "source": [
    "nb.fit(tdm_train,train_y)"
   ]
  },
  {
   "cell_type": "code",
   "execution_count": 37,
   "id": "75a8ac67",
   "metadata": {},
   "outputs": [],
   "source": [
    "pred_nb=nb.predict(tdm_test)"
   ]
  },
  {
   "cell_type": "code",
   "execution_count": 38,
   "id": "e1ea1ad5",
   "metadata": {},
   "outputs": [],
   "source": [
    "from sklearn.metrics import confusion_matrix"
   ]
  },
  {
   "cell_type": "code",
   "execution_count": 39,
   "id": "a60778f2",
   "metadata": {},
   "outputs": [
    {
     "data": {
      "text/plain": [
       "array([[941,  19],\n",
       "       [ 12, 143]], dtype=int64)"
      ]
     },
     "execution_count": 39,
     "metadata": {},
     "output_type": "execute_result"
    }
   ],
   "source": [
    "tab_nb=confusion_matrix(test_y,pred_nb)\n",
    "tab_nb"
   ]
  },
  {
   "cell_type": "code",
   "execution_count": 40,
   "id": "6aeb5706",
   "metadata": {},
   "outputs": [
    {
     "data": {
      "text/plain": [
       "97.21973094170404"
      ]
     },
     "execution_count": 40,
     "metadata": {},
     "output_type": "execute_result"
    }
   ],
   "source": [
    "tab_nb.diagonal().sum()/tab_nb.sum()*100"
   ]
  },
  {
   "cell_type": "markdown",
   "id": "6fd57607",
   "metadata": {},
   "source": [
    "## DecisionTreeClassifier"
   ]
  },
  {
   "cell_type": "code",
   "execution_count": 41,
   "id": "2acdbb09",
   "metadata": {},
   "outputs": [],
   "source": [
    "from sklearn.tree import DecisionTreeClassifier\n",
    "dtc=DecisionTreeClassifier()"
   ]
  },
  {
   "cell_type": "code",
   "execution_count": 42,
   "id": "d40d9757",
   "metadata": {},
   "outputs": [],
   "source": [
    "from sklearn.metrics import confusion_matrix"
   ]
  },
  {
   "cell_type": "code",
   "execution_count": 43,
   "id": "0d93ca65",
   "metadata": {},
   "outputs": [
    {
     "data": {
      "text/html": [
       "<style>#sk-container-id-2 {color: black;background-color: white;}#sk-container-id-2 pre{padding: 0;}#sk-container-id-2 div.sk-toggleable {background-color: white;}#sk-container-id-2 label.sk-toggleable__label {cursor: pointer;display: block;width: 100%;margin-bottom: 0;padding: 0.3em;box-sizing: border-box;text-align: center;}#sk-container-id-2 label.sk-toggleable__label-arrow:before {content: \"▸\";float: left;margin-right: 0.25em;color: #696969;}#sk-container-id-2 label.sk-toggleable__label-arrow:hover:before {color: black;}#sk-container-id-2 div.sk-estimator:hover label.sk-toggleable__label-arrow:before {color: black;}#sk-container-id-2 div.sk-toggleable__content {max-height: 0;max-width: 0;overflow: hidden;text-align: left;background-color: #f0f8ff;}#sk-container-id-2 div.sk-toggleable__content pre {margin: 0.2em;color: black;border-radius: 0.25em;background-color: #f0f8ff;}#sk-container-id-2 input.sk-toggleable__control:checked~div.sk-toggleable__content {max-height: 200px;max-width: 100%;overflow: auto;}#sk-container-id-2 input.sk-toggleable__control:checked~label.sk-toggleable__label-arrow:before {content: \"▾\";}#sk-container-id-2 div.sk-estimator input.sk-toggleable__control:checked~label.sk-toggleable__label {background-color: #d4ebff;}#sk-container-id-2 div.sk-label input.sk-toggleable__control:checked~label.sk-toggleable__label {background-color: #d4ebff;}#sk-container-id-2 input.sk-hidden--visually {border: 0;clip: rect(1px 1px 1px 1px);clip: rect(1px, 1px, 1px, 1px);height: 1px;margin: -1px;overflow: hidden;padding: 0;position: absolute;width: 1px;}#sk-container-id-2 div.sk-estimator {font-family: monospace;background-color: #f0f8ff;border: 1px dotted black;border-radius: 0.25em;box-sizing: border-box;margin-bottom: 0.5em;}#sk-container-id-2 div.sk-estimator:hover {background-color: #d4ebff;}#sk-container-id-2 div.sk-parallel-item::after {content: \"\";width: 100%;border-bottom: 1px solid gray;flex-grow: 1;}#sk-container-id-2 div.sk-label:hover label.sk-toggleable__label {background-color: #d4ebff;}#sk-container-id-2 div.sk-serial::before {content: \"\";position: absolute;border-left: 1px solid gray;box-sizing: border-box;top: 0;bottom: 0;left: 50%;z-index: 0;}#sk-container-id-2 div.sk-serial {display: flex;flex-direction: column;align-items: center;background-color: white;padding-right: 0.2em;padding-left: 0.2em;position: relative;}#sk-container-id-2 div.sk-item {position: relative;z-index: 1;}#sk-container-id-2 div.sk-parallel {display: flex;align-items: stretch;justify-content: center;background-color: white;position: relative;}#sk-container-id-2 div.sk-item::before, #sk-container-id-2 div.sk-parallel-item::before {content: \"\";position: absolute;border-left: 1px solid gray;box-sizing: border-box;top: 0;bottom: 0;left: 50%;z-index: -1;}#sk-container-id-2 div.sk-parallel-item {display: flex;flex-direction: column;z-index: 1;position: relative;background-color: white;}#sk-container-id-2 div.sk-parallel-item:first-child::after {align-self: flex-end;width: 50%;}#sk-container-id-2 div.sk-parallel-item:last-child::after {align-self: flex-start;width: 50%;}#sk-container-id-2 div.sk-parallel-item:only-child::after {width: 0;}#sk-container-id-2 div.sk-dashed-wrapped {border: 1px dashed gray;margin: 0 0.4em 0.5em 0.4em;box-sizing: border-box;padding-bottom: 0.4em;background-color: white;}#sk-container-id-2 div.sk-label label {font-family: monospace;font-weight: bold;display: inline-block;line-height: 1.2em;}#sk-container-id-2 div.sk-label-container {text-align: center;}#sk-container-id-2 div.sk-container {/* jupyter's `normalize.less` sets `[hidden] { display: none; }` but bootstrap.min.css set `[hidden] { display: none !important; }` so we also need the `!important` here to be able to override the default hidden behavior on the sphinx rendered scikit-learn.org. See: https://github.com/scikit-learn/scikit-learn/issues/21755 */display: inline-block !important;position: relative;}#sk-container-id-2 div.sk-text-repr-fallback {display: none;}</style><div id=\"sk-container-id-2\" class=\"sk-top-container\"><div class=\"sk-text-repr-fallback\"><pre>DecisionTreeClassifier()</pre><b>In a Jupyter environment, please rerun this cell to show the HTML representation or trust the notebook. <br />On GitHub, the HTML representation is unable to render, please try loading this page with nbviewer.org.</b></div><div class=\"sk-container\" hidden><div class=\"sk-item\"><div class=\"sk-estimator sk-toggleable\"><input class=\"sk-toggleable__control sk-hidden--visually\" id=\"sk-estimator-id-2\" type=\"checkbox\" checked><label for=\"sk-estimator-id-2\" class=\"sk-toggleable__label sk-toggleable__label-arrow\">DecisionTreeClassifier</label><div class=\"sk-toggleable__content\"><pre>DecisionTreeClassifier()</pre></div></div></div></div></div>"
      ],
      "text/plain": [
       "DecisionTreeClassifier()"
      ]
     },
     "execution_count": 43,
     "metadata": {},
     "output_type": "execute_result"
    }
   ],
   "source": [
    "dtc.fit(tdm_train,train_y)"
   ]
  },
  {
   "cell_type": "code",
   "execution_count": 44,
   "id": "967f1522",
   "metadata": {},
   "outputs": [],
   "source": [
    "pred_test1=dtc.predict(tdm_test)\n",
    "pred_train1=dtc.predict(tdm_train)"
   ]
  },
  {
   "cell_type": "code",
   "execution_count": 45,
   "id": "fd812521",
   "metadata": {},
   "outputs": [
    {
     "data": {
      "text/plain": [
       "array([[946,  14],\n",
       "       [ 24, 131]], dtype=int64)"
      ]
     },
     "execution_count": 45,
     "metadata": {},
     "output_type": "execute_result"
    }
   ],
   "source": [
    "tab_dt=confusion_matrix(test_y,pred_test1)\n",
    "tab_dt"
   ]
  },
  {
   "cell_type": "code",
   "execution_count": 46,
   "id": "38f7cd56",
   "metadata": {},
   "outputs": [
    {
     "data": {
      "text/plain": [
       "96.59192825112108"
      ]
     },
     "execution_count": 46,
     "metadata": {},
     "output_type": "execute_result"
    }
   ],
   "source": [
    "tab_dt.diagonal().sum()/tab_dt.sum()*100"
   ]
  },
  {
   "cell_type": "markdown",
   "id": "4801bc9f",
   "metadata": {},
   "source": [
    "## LogisticRegression"
   ]
  },
  {
   "cell_type": "code",
   "execution_count": 47,
   "id": "85942a40",
   "metadata": {},
   "outputs": [],
   "source": [
    "from sklearn.linear_model import LogisticRegression"
   ]
  },
  {
   "cell_type": "code",
   "execution_count": 48,
   "id": "46f5b3c3",
   "metadata": {},
   "outputs": [
    {
     "data": {
      "text/html": [
       "<style>#sk-container-id-3 {color: black;background-color: white;}#sk-container-id-3 pre{padding: 0;}#sk-container-id-3 div.sk-toggleable {background-color: white;}#sk-container-id-3 label.sk-toggleable__label {cursor: pointer;display: block;width: 100%;margin-bottom: 0;padding: 0.3em;box-sizing: border-box;text-align: center;}#sk-container-id-3 label.sk-toggleable__label-arrow:before {content: \"▸\";float: left;margin-right: 0.25em;color: #696969;}#sk-container-id-3 label.sk-toggleable__label-arrow:hover:before {color: black;}#sk-container-id-3 div.sk-estimator:hover label.sk-toggleable__label-arrow:before {color: black;}#sk-container-id-3 div.sk-toggleable__content {max-height: 0;max-width: 0;overflow: hidden;text-align: left;background-color: #f0f8ff;}#sk-container-id-3 div.sk-toggleable__content pre {margin: 0.2em;color: black;border-radius: 0.25em;background-color: #f0f8ff;}#sk-container-id-3 input.sk-toggleable__control:checked~div.sk-toggleable__content {max-height: 200px;max-width: 100%;overflow: auto;}#sk-container-id-3 input.sk-toggleable__control:checked~label.sk-toggleable__label-arrow:before {content: \"▾\";}#sk-container-id-3 div.sk-estimator input.sk-toggleable__control:checked~label.sk-toggleable__label {background-color: #d4ebff;}#sk-container-id-3 div.sk-label input.sk-toggleable__control:checked~label.sk-toggleable__label {background-color: #d4ebff;}#sk-container-id-3 input.sk-hidden--visually {border: 0;clip: rect(1px 1px 1px 1px);clip: rect(1px, 1px, 1px, 1px);height: 1px;margin: -1px;overflow: hidden;padding: 0;position: absolute;width: 1px;}#sk-container-id-3 div.sk-estimator {font-family: monospace;background-color: #f0f8ff;border: 1px dotted black;border-radius: 0.25em;box-sizing: border-box;margin-bottom: 0.5em;}#sk-container-id-3 div.sk-estimator:hover {background-color: #d4ebff;}#sk-container-id-3 div.sk-parallel-item::after {content: \"\";width: 100%;border-bottom: 1px solid gray;flex-grow: 1;}#sk-container-id-3 div.sk-label:hover label.sk-toggleable__label {background-color: #d4ebff;}#sk-container-id-3 div.sk-serial::before {content: \"\";position: absolute;border-left: 1px solid gray;box-sizing: border-box;top: 0;bottom: 0;left: 50%;z-index: 0;}#sk-container-id-3 div.sk-serial {display: flex;flex-direction: column;align-items: center;background-color: white;padding-right: 0.2em;padding-left: 0.2em;position: relative;}#sk-container-id-3 div.sk-item {position: relative;z-index: 1;}#sk-container-id-3 div.sk-parallel {display: flex;align-items: stretch;justify-content: center;background-color: white;position: relative;}#sk-container-id-3 div.sk-item::before, #sk-container-id-3 div.sk-parallel-item::before {content: \"\";position: absolute;border-left: 1px solid gray;box-sizing: border-box;top: 0;bottom: 0;left: 50%;z-index: -1;}#sk-container-id-3 div.sk-parallel-item {display: flex;flex-direction: column;z-index: 1;position: relative;background-color: white;}#sk-container-id-3 div.sk-parallel-item:first-child::after {align-self: flex-end;width: 50%;}#sk-container-id-3 div.sk-parallel-item:last-child::after {align-self: flex-start;width: 50%;}#sk-container-id-3 div.sk-parallel-item:only-child::after {width: 0;}#sk-container-id-3 div.sk-dashed-wrapped {border: 1px dashed gray;margin: 0 0.4em 0.5em 0.4em;box-sizing: border-box;padding-bottom: 0.4em;background-color: white;}#sk-container-id-3 div.sk-label label {font-family: monospace;font-weight: bold;display: inline-block;line-height: 1.2em;}#sk-container-id-3 div.sk-label-container {text-align: center;}#sk-container-id-3 div.sk-container {/* jupyter's `normalize.less` sets `[hidden] { display: none; }` but bootstrap.min.css set `[hidden] { display: none !important; }` so we also need the `!important` here to be able to override the default hidden behavior on the sphinx rendered scikit-learn.org. See: https://github.com/scikit-learn/scikit-learn/issues/21755 */display: inline-block !important;position: relative;}#sk-container-id-3 div.sk-text-repr-fallback {display: none;}</style><div id=\"sk-container-id-3\" class=\"sk-top-container\"><div class=\"sk-text-repr-fallback\"><pre>LogisticRegression()</pre><b>In a Jupyter environment, please rerun this cell to show the HTML representation or trust the notebook. <br />On GitHub, the HTML representation is unable to render, please try loading this page with nbviewer.org.</b></div><div class=\"sk-container\" hidden><div class=\"sk-item\"><div class=\"sk-estimator sk-toggleable\"><input class=\"sk-toggleable__control sk-hidden--visually\" id=\"sk-estimator-id-3\" type=\"checkbox\" checked><label for=\"sk-estimator-id-3\" class=\"sk-toggleable__label sk-toggleable__label-arrow\">LogisticRegression</label><div class=\"sk-toggleable__content\"><pre>LogisticRegression()</pre></div></div></div></div></div>"
      ],
      "text/plain": [
       "LogisticRegression()"
      ]
     },
     "execution_count": 48,
     "metadata": {},
     "output_type": "execute_result"
    }
   ],
   "source": [
    "logreg = LogisticRegression()\n",
    "logreg.fit(tdm_train,train_y)"
   ]
  },
  {
   "cell_type": "code",
   "execution_count": 49,
   "id": "ddc0c931",
   "metadata": {},
   "outputs": [],
   "source": [
    "pred_train =logreg.predict(tdm_train)\n",
    "pred_test= logreg.predict(tdm_test)"
   ]
  },
  {
   "cell_type": "code",
   "execution_count": 50,
   "id": "9f527171",
   "metadata": {},
   "outputs": [],
   "source": [
    "from sklearn.metrics import confusion_matrix"
   ]
  },
  {
   "cell_type": "code",
   "execution_count": 51,
   "id": "38b1d8c8",
   "metadata": {},
   "outputs": [
    {
     "data": {
      "text/plain": [
       "array([[959,   1],\n",
       "       [ 18, 137]], dtype=int64)"
      ]
     },
     "execution_count": 51,
     "metadata": {},
     "output_type": "execute_result"
    }
   ],
   "source": [
    "mat_test=confusion_matrix(test_y,pred_test)\n",
    "mat_test"
   ]
  },
  {
   "cell_type": "code",
   "execution_count": 52,
   "id": "6274cfb2",
   "metadata": {},
   "outputs": [
    {
     "data": {
      "text/plain": [
       "98.29596412556054"
      ]
     },
     "execution_count": 52,
     "metadata": {},
     "output_type": "execute_result"
    }
   ],
   "source": [
    "mat_test.diagonal().sum()/mat_test.sum()*100"
   ]
  },
  {
   "cell_type": "markdown",
   "id": "a22d5283",
   "metadata": {},
   "source": [
    "## Random forest"
   ]
  },
  {
   "cell_type": "code",
   "execution_count": 53,
   "id": "efd52215",
   "metadata": {},
   "outputs": [],
   "source": [
    "from sklearn.ensemble import RandomForestClassifier\n",
    "rfc=RandomForestClassifier(n_estimators=200,criterion='entropy')\n"
   ]
  },
  {
   "cell_type": "code",
   "execution_count": 54,
   "id": "810cc2b9",
   "metadata": {},
   "outputs": [
    {
     "data": {
      "text/html": [
       "<style>#sk-container-id-4 {color: black;background-color: white;}#sk-container-id-4 pre{padding: 0;}#sk-container-id-4 div.sk-toggleable {background-color: white;}#sk-container-id-4 label.sk-toggleable__label {cursor: pointer;display: block;width: 100%;margin-bottom: 0;padding: 0.3em;box-sizing: border-box;text-align: center;}#sk-container-id-4 label.sk-toggleable__label-arrow:before {content: \"▸\";float: left;margin-right: 0.25em;color: #696969;}#sk-container-id-4 label.sk-toggleable__label-arrow:hover:before {color: black;}#sk-container-id-4 div.sk-estimator:hover label.sk-toggleable__label-arrow:before {color: black;}#sk-container-id-4 div.sk-toggleable__content {max-height: 0;max-width: 0;overflow: hidden;text-align: left;background-color: #f0f8ff;}#sk-container-id-4 div.sk-toggleable__content pre {margin: 0.2em;color: black;border-radius: 0.25em;background-color: #f0f8ff;}#sk-container-id-4 input.sk-toggleable__control:checked~div.sk-toggleable__content {max-height: 200px;max-width: 100%;overflow: auto;}#sk-container-id-4 input.sk-toggleable__control:checked~label.sk-toggleable__label-arrow:before {content: \"▾\";}#sk-container-id-4 div.sk-estimator input.sk-toggleable__control:checked~label.sk-toggleable__label {background-color: #d4ebff;}#sk-container-id-4 div.sk-label input.sk-toggleable__control:checked~label.sk-toggleable__label {background-color: #d4ebff;}#sk-container-id-4 input.sk-hidden--visually {border: 0;clip: rect(1px 1px 1px 1px);clip: rect(1px, 1px, 1px, 1px);height: 1px;margin: -1px;overflow: hidden;padding: 0;position: absolute;width: 1px;}#sk-container-id-4 div.sk-estimator {font-family: monospace;background-color: #f0f8ff;border: 1px dotted black;border-radius: 0.25em;box-sizing: border-box;margin-bottom: 0.5em;}#sk-container-id-4 div.sk-estimator:hover {background-color: #d4ebff;}#sk-container-id-4 div.sk-parallel-item::after {content: \"\";width: 100%;border-bottom: 1px solid gray;flex-grow: 1;}#sk-container-id-4 div.sk-label:hover label.sk-toggleable__label {background-color: #d4ebff;}#sk-container-id-4 div.sk-serial::before {content: \"\";position: absolute;border-left: 1px solid gray;box-sizing: border-box;top: 0;bottom: 0;left: 50%;z-index: 0;}#sk-container-id-4 div.sk-serial {display: flex;flex-direction: column;align-items: center;background-color: white;padding-right: 0.2em;padding-left: 0.2em;position: relative;}#sk-container-id-4 div.sk-item {position: relative;z-index: 1;}#sk-container-id-4 div.sk-parallel {display: flex;align-items: stretch;justify-content: center;background-color: white;position: relative;}#sk-container-id-4 div.sk-item::before, #sk-container-id-4 div.sk-parallel-item::before {content: \"\";position: absolute;border-left: 1px solid gray;box-sizing: border-box;top: 0;bottom: 0;left: 50%;z-index: -1;}#sk-container-id-4 div.sk-parallel-item {display: flex;flex-direction: column;z-index: 1;position: relative;background-color: white;}#sk-container-id-4 div.sk-parallel-item:first-child::after {align-self: flex-end;width: 50%;}#sk-container-id-4 div.sk-parallel-item:last-child::after {align-self: flex-start;width: 50%;}#sk-container-id-4 div.sk-parallel-item:only-child::after {width: 0;}#sk-container-id-4 div.sk-dashed-wrapped {border: 1px dashed gray;margin: 0 0.4em 0.5em 0.4em;box-sizing: border-box;padding-bottom: 0.4em;background-color: white;}#sk-container-id-4 div.sk-label label {font-family: monospace;font-weight: bold;display: inline-block;line-height: 1.2em;}#sk-container-id-4 div.sk-label-container {text-align: center;}#sk-container-id-4 div.sk-container {/* jupyter's `normalize.less` sets `[hidden] { display: none; }` but bootstrap.min.css set `[hidden] { display: none !important; }` so we also need the `!important` here to be able to override the default hidden behavior on the sphinx rendered scikit-learn.org. See: https://github.com/scikit-learn/scikit-learn/issues/21755 */display: inline-block !important;position: relative;}#sk-container-id-4 div.sk-text-repr-fallback {display: none;}</style><div id=\"sk-container-id-4\" class=\"sk-top-container\"><div class=\"sk-text-repr-fallback\"><pre>RandomForestClassifier(criterion=&#x27;entropy&#x27;, n_estimators=200)</pre><b>In a Jupyter environment, please rerun this cell to show the HTML representation or trust the notebook. <br />On GitHub, the HTML representation is unable to render, please try loading this page with nbviewer.org.</b></div><div class=\"sk-container\" hidden><div class=\"sk-item\"><div class=\"sk-estimator sk-toggleable\"><input class=\"sk-toggleable__control sk-hidden--visually\" id=\"sk-estimator-id-4\" type=\"checkbox\" checked><label for=\"sk-estimator-id-4\" class=\"sk-toggleable__label sk-toggleable__label-arrow\">RandomForestClassifier</label><div class=\"sk-toggleable__content\"><pre>RandomForestClassifier(criterion=&#x27;entropy&#x27;, n_estimators=200)</pre></div></div></div></div></div>"
      ],
      "text/plain": [
       "RandomForestClassifier(criterion='entropy', n_estimators=200)"
      ]
     },
     "execution_count": 54,
     "metadata": {},
     "output_type": "execute_result"
    }
   ],
   "source": [
    "rfc.fit(tdm_train,train_y)"
   ]
  },
  {
   "cell_type": "code",
   "execution_count": 55,
   "id": "382033e9",
   "metadata": {},
   "outputs": [],
   "source": [
    "pred_rfc= rfc.predict(tdm_test)"
   ]
  },
  {
   "cell_type": "code",
   "execution_count": 56,
   "id": "b3242e7e",
   "metadata": {},
   "outputs": [
    {
     "data": {
      "text/plain": [
       "array([[960,  28],\n",
       "       [  0, 127]], dtype=int64)"
      ]
     },
     "execution_count": 56,
     "metadata": {},
     "output_type": "execute_result"
    }
   ],
   "source": [
    "tab_rfc = confusion_matrix(pred_rfc,test_y)\n",
    "tab_rfc"
   ]
  },
  {
   "cell_type": "code",
   "execution_count": 57,
   "id": "5b008932",
   "metadata": {},
   "outputs": [
    {
     "ename": "NameError",
     "evalue": "name 'tab_rfc_cr' is not defined",
     "output_type": "error",
     "traceback": [
      "\u001b[1;31m---------------------------------------------------------------------------\u001b[0m",
      "\u001b[1;31mNameError\u001b[0m                                 Traceback (most recent call last)",
      "Cell \u001b[1;32mIn[57], line 1\u001b[0m\n\u001b[1;32m----> 1\u001b[0m tab_rfc_cr\u001b[38;5;241m.\u001b[39mdiagonal()\u001b[38;5;241m.\u001b[39msum()\u001b[38;5;241m/\u001b[39mtab_rfc_cr\u001b[38;5;241m.\u001b[39msum()\u001b[38;5;241m*\u001b[39m\u001b[38;5;241m100\u001b[39m\n",
      "\u001b[1;31mNameError\u001b[0m: name 'tab_rfc_cr' is not defined"
     ]
    }
   ],
   "source": [
    "tab_rfc_cr.diagonal().sum()/tab_rfc_cr.sum()*100"
   ]
  },
  {
   "cell_type": "code",
   "execution_count": null,
   "id": "262979d0",
   "metadata": {},
   "outputs": [],
   "source": [
    "sp.head()"
   ]
  },
  {
   "cell_type": "code",
   "execution_count": null,
   "id": "857df364",
   "metadata": {},
   "outputs": [],
   "source": [
    "sp=sp.drop(['Unnamed: 2','Unnamed: 3','Unnamed: 4'],axis=1)"
   ]
  },
  {
   "cell_type": "code",
   "execution_count": null,
   "id": "5192ec58",
   "metadata": {},
   "outputs": [],
   "source": [
    "sp.rename(columns={'v1':'y','v2':'x'},inplace=True)"
   ]
  },
  {
   "cell_type": "code",
   "execution_count": null,
   "id": "77361a89",
   "metadata": {},
   "outputs": [],
   "source": [
    "sp.y.replace({'ham':0,'spam':1},inplace=True)"
   ]
  },
  {
   "cell_type": "code",
   "execution_count": null,
   "id": "6b6493fc",
   "metadata": {},
   "outputs": [],
   "source": [
    "sp.x=sp.x.str.lower()"
   ]
  },
  {
   "cell_type": "code",
   "execution_count": null,
   "id": "86a0ff1d",
   "metadata": {},
   "outputs": [],
   "source": [
    "from nltk.corpus import stopwords"
   ]
  },
  {
   "cell_type": "code",
   "execution_count": null,
   "id": "b8426ba5",
   "metadata": {},
   "outputs": [],
   "source": [
    "len(stopwords.words('english'))"
   ]
  },
  {
   "cell_type": "code",
   "execution_count": null,
   "id": "f6dad7aa",
   "metadata": {},
   "outputs": [],
   "source": [
    "string.punctuation"
   ]
  },
  {
   "cell_type": "code",
   "execution_count": null,
   "id": "9b18d010",
   "metadata": {},
   "outputs": [],
   "source": [
    "def text_process(mess):\n",
    "    nopunc=[char for char in mess if char not in string.punctuation]\n",
    "    nopunc=\"\".join(nopunc)\n",
    "    \n",
    "    return [word for word in nopunc.split() if word not in stopwords.words('english')]"
   ]
  },
  {
   "cell_type": "code",
   "execution_count": null,
   "id": "537ff474",
   "metadata": {},
   "outputs": [],
   "source": [
    "sp['x'].apply(text_process)"
   ]
  },
  {
   "cell_type": "code",
   "execution_count": null,
   "id": "99ec5883",
   "metadata": {},
   "outputs": [],
   "source": [
    "from sklearn.feature_extraction.text import CountVectorizer"
   ]
  },
  {
   "cell_type": "code",
   "execution_count": null,
   "id": "75622782",
   "metadata": {},
   "outputs": [],
   "source": [
    "bow_transformer=CountVectorizer(analyzer=text_process).fit(sp[\"x\"])"
   ]
  },
  {
   "cell_type": "code",
   "execution_count": null,
   "id": "ebb70ec5",
   "metadata": {},
   "outputs": [],
   "source": [
    "bow_transformer"
   ]
  },
  {
   "cell_type": "code",
   "execution_count": null,
   "id": "bb811dd6",
   "metadata": {},
   "outputs": [],
   "source": [
    "bow_transformer.vocabulary_"
   ]
  },
  {
   "cell_type": "code",
   "execution_count": null,
   "id": "d94fd82d",
   "metadata": {},
   "outputs": [],
   "source": [
    "len(bow_transformer.vocabulary_)"
   ]
  },
  {
   "cell_type": "code",
   "execution_count": null,
   "id": "815c7eb2",
   "metadata": {},
   "outputs": [],
   "source": [
    "tdm=bow_transformer.transform(sp['x'])"
   ]
  },
  {
   "cell_type": "code",
   "execution_count": null,
   "id": "4031cc79",
   "metadata": {},
   "outputs": [],
   "source": [
    "tdm.shape"
   ]
  },
  {
   "cell_type": "code",
   "execution_count": null,
   "id": "1c6670b2",
   "metadata": {},
   "outputs": [],
   "source": [
    "type(tdm)"
   ]
  },
  {
   "cell_type": "code",
   "execution_count": null,
   "id": "0ce9524a",
   "metadata": {},
   "outputs": [],
   "source": [
    "from sklearn.model_selection import train_test_split"
   ]
  },
  {
   "cell_type": "code",
   "execution_count": null,
   "id": "f1c56c50",
   "metadata": {},
   "outputs": [],
   "source": [
    "tdm_train,tdm_test,train_y,test_y=train_test_split(tdm,sp['y'],test_size=.2)"
   ]
  },
  {
   "cell_type": "code",
   "execution_count": null,
   "id": "71b0710e",
   "metadata": {},
   "outputs": [],
   "source": [
    "from sklearn.naive_bayes import MultinomialNB\n",
    "nb=MultinomialNB()"
   ]
  },
  {
   "cell_type": "code",
   "execution_count": null,
   "id": "e3576428",
   "metadata": {},
   "outputs": [],
   "source": [
    "nb.fit(tdm_train,train_y)"
   ]
  },
  {
   "cell_type": "code",
   "execution_count": null,
   "id": "7f455fd7",
   "metadata": {},
   "outputs": [],
   "source": [
    "pred_nb=nb.predict(tdm_test)"
   ]
  },
  {
   "cell_type": "code",
   "execution_count": null,
   "id": "91dad6c0",
   "metadata": {},
   "outputs": [],
   "source": [
    "pred_nb"
   ]
  },
  {
   "cell_type": "code",
   "execution_count": null,
   "id": "039788ef",
   "metadata": {},
   "outputs": [],
   "source": [
    "from sklearn.metrics import confusion_matrix"
   ]
  },
  {
   "cell_type": "code",
   "execution_count": null,
   "id": "3add43e6",
   "metadata": {},
   "outputs": [],
   "source": [
    "tab_nb=confusion_matrix(test_y,pred_nb)"
   ]
  },
  {
   "cell_type": "code",
   "execution_count": null,
   "id": "8c68abbc",
   "metadata": {},
   "outputs": [],
   "source": [
    "tab_nb"
   ]
  },
  {
   "cell_type": "code",
   "execution_count": null,
   "id": "70058480-a71e-47a4-8ae8-2984749a4c5a",
   "metadata": {},
   "outputs": [],
   "source": []
  },
  {
   "cell_type": "code",
   "execution_count": null,
   "id": "0836816e-5644-44e6-9977-cd2172874055",
   "metadata": {},
   "outputs": [],
   "source": []
  },
  {
   "cell_type": "code",
   "execution_count": null,
   "id": "ae306474-dfd4-46c1-9b00-85dc8b35c6f9",
   "metadata": {},
   "outputs": [],
   "source": []
  },
  {
   "cell_type": "code",
   "execution_count": null,
   "id": "00ba842b-3fb7-4fba-92c3-7a5730aedd7c",
   "metadata": {},
   "outputs": [],
   "source": []
  },
  {
   "cell_type": "code",
   "execution_count": null,
   "id": "365f282e-e71a-432a-82af-e7fe6971f58a",
   "metadata": {},
   "outputs": [],
   "source": []
  }
 ],
 "metadata": {
  "kernelspec": {
   "display_name": "Python 3 (ipykernel)",
   "language": "python",
   "name": "python3"
  },
  "language_info": {
   "codemirror_mode": {
    "name": "ipython",
    "version": 3
   },
   "file_extension": ".py",
   "mimetype": "text/x-python",
   "name": "python",
   "nbconvert_exporter": "python",
   "pygments_lexer": "ipython3",
   "version": "3.11.4"
  }
 },
 "nbformat": 4,
 "nbformat_minor": 5
}
